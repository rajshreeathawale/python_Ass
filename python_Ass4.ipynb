{
  "nbformat": 4,
  "nbformat_minor": 0,
  "metadata": {
    "colab": {
      "provenance": [],
      "authorship_tag": "ABX9TyMhKFni1h0hXSo0xsj1hCZ9",
      "include_colab_link": true
    },
    "kernelspec": {
      "name": "python3",
      "display_name": "Python 3"
    },
    "language_info": {
      "name": "python"
    }
  },
  "cells": [
    {
      "cell_type": "markdown",
      "metadata": {
        "id": "view-in-github",
        "colab_type": "text"
      },
      "source": [
        "<a href=\"https://colab.research.google.com/github/rajshreeathawale/python_Ass/blob/main/python_Ass4.ipynb\" target=\"_parent\"><img src=\"https://colab.research.google.com/assets/colab-badge.svg\" alt=\"Open In Colab\"/></a>"
      ]
    },
    {
      "cell_type": "markdown",
      "source": [
        "**Python Assignment -4**"
      ],
      "metadata": {
        "id": "CN9_ELbZuaOd"
      }
    },
    {
      "cell_type": "markdown",
      "source": [
        "Q1.Write a function translate() that will translate a. That is, double\n",
        "every consonant and place an occurrence of \"o\" in between. For\n",
        "example, translate(\"this is fun\") should return the string \"tothohisos\n",
        "isos fofunon\"."
      ],
      "metadata": {
        "id": "W2potYJsuiIL"
      }
    },
    {
      "cell_type": "code",
      "source": [
        "def translate(Str):\n",
        "    New_str=\"\"\n",
        "    for i in Str:\n",
        "        if i.isalpha() and i.lower() not in \"aeiou\":\n",
        "            New_str+=i + 'o' + i\n",
        "        else:\n",
        "            New_str+=i\n",
        "    return New_str\n",
        "Str =\"this is fun\"\n",
        "result = translate(Str)\n",
        "print(result)\n",
        "\n"
      ],
      "metadata": {
        "colab": {
          "base_uri": "https://localhost:8080/"
        },
        "id": "9UULh2Waun5N",
        "outputId": "1dbcbdd4-bb49-47a6-972f-7b3e1e9fd818"
      },
      "execution_count": null,
      "outputs": [
        {
          "output_type": "stream",
          "name": "stdout",
          "text": [
            "tothohisos isos fofunon\n"
          ]
        }
      ]
    },
    {
      "cell_type": "markdown",
      "source": [
        "Q2. Write a program that contains a function that has one parameter,\n",
        "n, representing an integer greater than 0. The function should return\n",
        "n! (n factorial). Then write a main function that calls this function\n",
        "with the values 1 through 20, one at a time, printing the returned\n",
        "results. This is what your output should look like:\n",
        "\n",
        "1 1\n",
        "\n",
        "2 2\n",
        "\n",
        "3 6 etc"
      ],
      "metadata": {
        "id": "WUOSMlBcxQhj"
      }
    },
    {
      "cell_type": "code",
      "source": [
        "def factorial(n):\n",
        "    if n==0:\n",
        "        return 1\n",
        "    else:\n",
        "        result=1\n",
        "        for i in range(1,n+1):\n",
        "            result*=i\n",
        "        return result\n",
        "def main():\n",
        "    for n in range(1,21):\n",
        "        result=factorial(n)\n",
        "        print(\"Factorial of\",n,\":\",result)\n",
        "main()"
      ],
      "metadata": {
        "id": "S-vaM0iS_1L3",
        "colab": {
          "base_uri": "https://localhost:8080/"
        },
        "outputId": "d98ea8aa-9fcc-4efb-96d7-515d2a37f189"
      },
      "execution_count": null,
      "outputs": [
        {
          "output_type": "stream",
          "name": "stdout",
          "text": [
            "Factorial of 1 : 1\n",
            "Factorial of 2 : 2\n",
            "Factorial of 3 : 6\n",
            "Factorial of 4 : 24\n",
            "Factorial of 5 : 120\n",
            "Factorial of 6 : 720\n",
            "Factorial of 7 : 5040\n",
            "Factorial of 8 : 40320\n",
            "Factorial of 9 : 362880\n",
            "Factorial of 10 : 3628800\n",
            "Factorial of 11 : 39916800\n",
            "Factorial of 12 : 479001600\n",
            "Factorial of 13 : 6227020800\n",
            "Factorial of 14 : 87178291200\n",
            "Factorial of 15 : 1307674368000\n",
            "Factorial of 16 : 20922789888000\n",
            "Factorial of 17 : 355687428096000\n",
            "Factorial of 18 : 6402373705728000\n",
            "Factorial of 19 : 121645100408832000\n",
            "Factorial of 20 : 2432902008176640000\n"
          ]
        }
      ]
    },
    {
      "cell_type": "markdown",
      "source": [
        "Q3.Write a function find_longest_word() that takes a list of words and\n",
        "returns the length of the longest one."
      ],
      "metadata": {
        "id": "QUjkPW1v1z6H"
      }
    },
    {
      "cell_type": "code",
      "source": [
        "def find_longest_word(wl):\n",
        "    ln=len(wl[0])\n",
        "    for word in wl:\n",
        "        if len(word)>ln:\n",
        "            ln = len(word)\n",
        "    return ln\n",
        "words =[\"Stars\",\"sun\",\"moon\"]\n",
        "ln=find_longest_word(words)\n",
        "print(\"The length of the longest word :\",ln)\n",
        "\n"
      ],
      "metadata": {
        "colab": {
          "base_uri": "https://localhost:8080/"
        },
        "id": "SWIyaO2s2EMf",
        "outputId": "63c0fa22-c22a-4ce6-90ac-a4a37b51f6ed"
      },
      "execution_count": null,
      "outputs": [
        {
          "output_type": "stream",
          "name": "stdout",
          "text": [
            "The length of the longest word : 5\n"
          ]
        }
      ]
    },
    {
      "cell_type": "markdown",
      "source": [
        "Q4.Define a simple \"spelling correction\" function correct () that takes a\n",
        "string and sees to it that\n",
        "a)two or more occurrences of the space character is compressed into one,\n",
        "and\n",
        "\n",
        "b)inserts an extra space after a period if the period is directly followed\n",
        "by a letter. e.g. correct (\"This is very funny and cool.Indeed!\") should\n",
        "return \"This is very funny and cool. Indeed!\""
      ],
      "metadata": {
        "id": "CcNaCmfh6Vp7"
      }
    },
    {
      "cell_type": "code",
      "source": [
        "def correct(str):\n",
        "    corr_str=' '.join(str.split())\n",
        "    corr_str=corr_str.replace('.','. ')\n",
        "    return corr_str\n",
        "str=\"This is very funny and cool.indeed!\"\n",
        "corr_str=correct(str)\n",
        "print(\"The corrected string :\",corr_str)"
      ],
      "metadata": {
        "colab": {
          "base_uri": "https://localhost:8080/"
        },
        "id": "5UOMHF-N6nkc",
        "outputId": "cd374ad1-88fc-4601-ac4c-379f13d8cfdc"
      },
      "execution_count": null,
      "outputs": [
        {
          "output_type": "stream",
          "name": "stdout",
          "text": [
            "The corrected string : This is very funny and cool. indeed!\n"
          ]
        }
      ]
    },
    {
      "cell_type": "markdown",
      "source": [
        "Q5.In English, the present participle is formed by adding the suffix -ing\n",
        "to the infinite form: go -> going. A simple set of heuristic rules can be\n",
        "given as follows:\n",
        "\n",
        "a) If the verb ends in e, drop the e and add ing (if not exception: be,see, flee, knee, etc.)\n",
        "\n",
        "b) If the verb ends in ie, change ie to y and add ing\n",
        "\n",
        "c) For words consisting of consonant-vowel-consonant, double the final\n",
        "letter before adding ing\n",
        "\n",
        "d) By default just add ing\n",
        "Your task in this exercise is to define a function make_ing_form() which,\n",
        "given a verb in infinitive form, returns its present participle form. Test\n",
        "your function with words such as lie, see, move and hug. However, you\n",
        "must not expect such simple rules to work for all cases."
      ],
      "metadata": {
        "id": "JCXq_59U-uQW"
      }
    },
    {
      "cell_type": "code",
      "source": [
        "def par(v):\n",
        "    if v.endswith(\"e\") and v not in [\"be\",\"see\",\"flee\",\"knee\"]:\n",
        "        return v[:-1]+'ing'\n",
        "    if v.endswith(\"ie\"):\n",
        "        return v+\"ying\"\n",
        "    if len(v)>=3 and v[-3] not in \"aeiou\" and v[-2] in \"aeiou\" and v[-1] not in \"aeiou\":\n",
        "        return v + iv[-1]+'ing'\n",
        "    return v+ \"ing\"\n",
        "v=input(\"Enter a verb :\")\n",
        "p=par(v)\n",
        "print(\"The present participle of \",v,\":\",p)\n"
      ],
      "metadata": {
        "colab": {
          "base_uri": "https://localhost:8080/"
        },
        "id": "En70K3TcX1fF",
        "outputId": "d297e1f3-8ed4-4df4-9d13-be853f7113b0"
      },
      "execution_count": null,
      "outputs": [
        {
          "output_type": "stream",
          "name": "stdout",
          "text": [
            "Enter a verb :fly\n",
            "The present participle of  fly : flying\n"
          ]
        }
      ]
    },
    {
      "cell_type": "markdown",
      "source": [
        "Q6.Make the program of network error codes done yesterday with\n",
        "match-case."
      ],
      "metadata": {
        "id": "TgHuDs7k_KOr"
      }
    },
    {
      "cell_type": "code",
      "source": [
        "def net_err(err_Code):\n",
        "    match err_code:\n",
        "        case 200:\n",
        "            print(\"Bad Request.\")\n",
        "        case 201:\n",
        "            print(\"unauthorised.\")\n",
        "        case 202:\n",
        "            print(\"Forbidden .\")\n",
        "        case 203:\n",
        "            print(\"service Unavailable\")\n",
        "        case _:\n",
        "            print(\"Unknown Error\")\n",
        "err_code=int(input(\"Enter a network error code\"))\n",
        "net_err(err_code)\n",
        "\n",
        "\n",
        "\n",
        "\n",
        "\n"
      ],
      "metadata": {
        "colab": {
          "base_uri": "https://localhost:8080/"
        },
        "id": "kaDhw-KXGQrD",
        "outputId": "55975343-a053-4e3e-f986-19f00e083ae3"
      },
      "execution_count": null,
      "outputs": [
        {
          "output_type": "stream",
          "name": "stdout",
          "text": [
            "Enter a network error code201\n",
            "unauthorised.\n"
          ]
        }
      ]
    },
    {
      "cell_type": "markdown",
      "source": [
        "Q7Define a class Student with data members rollno, name, mark1, mark2,\n",
        "mark3, total, avg. Use appropriate method for entering the details and\n",
        "displaying the details. Also define a method for calculating the total mark\n",
        "and average. Create an object for the class and invoke all the methods."
      ],
      "metadata": {
        "id": "K1okyvQ7_hnF"
      }
    },
    {
      "cell_type": "code",
      "source": [
        "class student:\n",
        "    def __init__(self,rn,n,m1,m2,m3,t,a):\n",
        "        self.rollno = rn\n",
        "        self.name=n\n",
        "        self.marks1=m1\n",
        "        self.marks2=m2\n",
        "        self.marks3=m3\n",
        "        self.total=t\n",
        "        self.avg=a\n",
        "    def std_details(self):\n",
        "        print(self.rollno)\n",
        "        print(self.name)\n",
        "        print(self.marks1)\n",
        "        print(self.marks2)\n",
        "        print(self.marks3)\n",
        "    def marks_total(self):\n",
        "        self.total=self.marks1 + self.marks2 + self.marks3\n",
        "        print(self.total)\n",
        "    def cal_avg(self):\n",
        "        self.avg=self.total/3\n",
        "        print(self.avg)\n",
        "    def display_details(self):\n",
        "        print(\"Roll no :\",self.rollno)\n",
        "        print(\"Name :\",self.name)\n",
        "        print(\"Marks 1 :\",self.marks1)\n",
        "        print(\"Marks 2 :\",self.marks2)\n",
        "        print(\"Marks 3 :\",self.marks3)\n",
        "        print(\"Total Marks :\",self.total)\n",
        "        print(\"Average Marks :\",self.avg)\n",
        "\n",
        "std=student(11,\"Rashi\",98,99,97,0,0.0)\n",
        "std.std_details()\n",
        "std.marks_total()\n",
        "std.cal_avg()\n",
        "std.display_details()\n",
        "\n",
        "\n",
        "\n"
      ],
      "metadata": {
        "colab": {
          "base_uri": "https://localhost:8080/"
        },
        "id": "XNwaCjb7_mcy",
        "outputId": "de1d8fe7-7dc3-4799-a181-ce24ec658d12"
      },
      "execution_count": null,
      "outputs": [
        {
          "output_type": "stream",
          "name": "stdout",
          "text": [
            "11\n",
            "Rashi\n",
            "98\n",
            "99\n",
            "97\n",
            "294\n",
            "98.0\n",
            "Roll no : 11\n",
            "Name : Rashi\n",
            "Marks 1 : 98\n",
            "Marks 2 : 99\n",
            "Marks 3 : 97\n",
            "Total Marks : 294\n",
            "Average Marks : 98.0\n"
          ]
        }
      ]
    },
    {
      "cell_type": "markdown",
      "source": [
        "Q8Create a class corresponding to BankAccount with the data members\n",
        "accno, custname, balamt. Use two methods for entering the details and\n",
        "displaying the details. Define one more method for checking whether the\n",
        "balamt is greater than 20,000 and display a corresponding message.\n",
        "Create an object for the class and invoke all the methods."
      ],
      "metadata": {
        "id": "XullDArw_m53"
      }
    },
    {
      "cell_type": "code",
      "source": [
        "class BankAccount:\n",
        "    def __init__(self,an,cn,bamt):\n",
        "        self.accno=an\n",
        "        self.custname=cn\n",
        "        self.balamt=bamt\n",
        "    def acc_details(self):\n",
        "        print(self.accno)\n",
        "        print(self.custname)\n",
        "        print(self.balamt)\n",
        "    def display_details(self):\n",
        "        print(\"Account Number :\",self.accno)\n",
        "        print(\"Customer Name :\",self.custname)\n",
        "        print(\"Balance Amount :\",self.balamt)\n",
        "    def check_bal(self):\n",
        "        if self.balamt>20000:\n",
        "            print(\"Balance is greater than 20000 .\")\n",
        "        else:\n",
        "            print(\"Balance is not greater than 20000 .\")\n",
        "ac=BankAccount(23452,\"Rashi\",25000)\n",
        "ac.acc_details()\n",
        "ac.display_details()\n",
        "ac.check_bal()\n"
      ],
      "metadata": {
        "colab": {
          "base_uri": "https://localhost:8080/"
        },
        "id": "yATmstaM_sN-",
        "outputId": "69639bf0-c8e6-4c1f-c288-6eee182920de"
      },
      "execution_count": null,
      "outputs": [
        {
          "output_type": "stream",
          "name": "stdout",
          "text": [
            "23452\n",
            "Rashi\n",
            "25000\n",
            "Account Number : 23452\n",
            "Customer Name : Rashi\n",
            "Balance Amount : 25000\n",
            "Balance is greater than 20000 .\n"
          ]
        }
      ]
    },
    {
      "cell_type": "markdown",
      "source": [
        "Q9Write a python program to demonstrate method overloading."
      ],
      "metadata": {
        "id": "sMQstedX_4GJ"
      }
    },
    {
      "cell_type": "code",
      "source": [
        "def sum(a,b=20,c=50):\n",
        "    print(a+b+c)\n",
        "sum(100)\n",
        "sum(50,60)\n",
        "sum(10,50,60)\n"
      ],
      "metadata": {
        "colab": {
          "base_uri": "https://localhost:8080/"
        },
        "id": "iN04zHDR_93p",
        "outputId": "5a221f66-6d4d-4f39-ca5b-a33515909ae5"
      },
      "execution_count": null,
      "outputs": [
        {
          "output_type": "stream",
          "name": "stdout",
          "text": [
            "170\n",
            "160\n",
            "120\n"
          ]
        }
      ]
    },
    {
      "cell_type": "markdown",
      "source": [
        "Q10.Write a program to demonstrate inheritance in python."
      ],
      "metadata": {
        "id": "d0c9Dbm0AByS"
      }
    },
    {
      "cell_type": "code",
      "source": [
        "class Bird:\n",
        "    def __init__(self,e,l):\n",
        "        self.eyes=e\n",
        "        self.legs=l\n",
        "\n",
        "    def fly(self):\n",
        "        print(\"Birds can fly.\")\n",
        "    def chirp(self):\n",
        "        print(\"Birds can chirp .\")\n",
        "class Eagle(Bird):\n",
        "    def __init__(self,e,l):\n",
        "        super().__init__(e,l)\n",
        "        print(\"Its a subclass of super class.\")\n",
        "    def eat(self):\n",
        "        print(\"Eagle eats Snakes.\")\n",
        "    def display(self):\n",
        "        print(self.eyes)\n",
        "        print(self.legs)\n",
        "e=Eagle(2,2)\n",
        "e.fly()\n",
        "e.chirp()\n",
        "e.eat()\n",
        "e.display()"
      ],
      "metadata": {
        "colab": {
          "base_uri": "https://localhost:8080/"
        },
        "id": "oK1tlMfiAECA",
        "outputId": "6b705d9e-eadf-4f32-ae4d-a642dc7f3710"
      },
      "execution_count": null,
      "outputs": [
        {
          "output_type": "stream",
          "name": "stdout",
          "text": [
            "Its a subclass of super class.\n",
            "Birds can fly.\n",
            "Birds can chirp .\n",
            "Eagle eats Snakes.\n",
            "2\n",
            "2\n"
          ]
        }
      ]
    },
    {
      "cell_type": "markdown",
      "source": [
        "Q11.Write a Python program to check that a string contains only a certain\n",
        "set of characters (in this case a-z, A-Z and 0-9)."
      ],
      "metadata": {
        "id": "QwFX5GNYAEq0"
      }
    },
    {
      "cell_type": "code",
      "source": [
        "import re\n",
        "pattern=r'^[a-zA-z0-9]+$'\n",
        "str='abcdABCD01234'\n",
        "match = re.match(pattern,str)\n",
        "if match:\n",
        "    result =True\n",
        "else:\n",
        "    result= False\n",
        "print(result)\n"
      ],
      "metadata": {
        "colab": {
          "base_uri": "https://localhost:8080/"
        },
        "id": "yzhwQl4HAOhQ",
        "outputId": "5ae54daf-8e4e-4912-e82a-b92727ebff1b"
      },
      "execution_count": null,
      "outputs": [
        {
          "output_type": "stream",
          "name": "stdout",
          "text": [
            "True\n"
          ]
        }
      ]
    },
    {
      "cell_type": "markdown",
      "source": [
        "Q12.Write a Python program that matches a string that has an a followed\n",
        "by zero or more b's"
      ],
      "metadata": {
        "id": "7AAW1Q3lAO-t"
      }
    },
    {
      "cell_type": "code",
      "source": [
        "import re\n",
        "pattern =r'ab*'\n",
        "print(re.search(pattern,'abcbb1012300'))\n"
      ],
      "metadata": {
        "colab": {
          "base_uri": "https://localhost:8080/"
        },
        "id": "n9G6aJomATA9",
        "outputId": "ebab8ab8-fc31-4f21-f033-4fd9b97898f4"
      },
      "execution_count": null,
      "outputs": [
        {
          "output_type": "stream",
          "name": "stdout",
          "text": [
            "<re.Match object; span=(0, 2), match='ab'>\n"
          ]
        }
      ]
    },
    {
      "cell_type": "markdown",
      "source": [
        "Q13.Write a Python program that matches a string that has an a followed\n",
        "by one or more b's"
      ],
      "metadata": {
        "id": "Yn7kj7aHATh_"
      }
    },
    {
      "cell_type": "code",
      "source": [
        "import re\n",
        "pattern=r'ab+'\n",
        "print(re.search(pattern,'acbbabchd'))"
      ],
      "metadata": {
        "colab": {
          "base_uri": "https://localhost:8080/"
        },
        "id": "-dEZYDwsAXpP",
        "outputId": "19971f2e-9e6b-464f-f0b0-9ef0a2e1727f"
      },
      "execution_count": null,
      "outputs": [
        {
          "output_type": "stream",
          "name": "stdout",
          "text": [
            "<re.Match object; span=(4, 6), match='ab'>\n"
          ]
        }
      ]
    },
    {
      "cell_type": "markdown",
      "source": [
        "Q14.Write a Python program that matches a string that has an a followed\n",
        "by zero or one 'b'"
      ],
      "metadata": {
        "id": "myP3hvX6AYH_"
      }
    },
    {
      "cell_type": "code",
      "source": [
        "import re\n",
        "pattern=r'ab?'\n",
        "print(re.search(pattern,'cbbabchd'))"
      ],
      "metadata": {
        "colab": {
          "base_uri": "https://localhost:8080/"
        },
        "id": "7MPMGgNfAcD_",
        "outputId": "be5804d6-51de-4912-f15d-822eeed89536"
      },
      "execution_count": null,
      "outputs": [
        {
          "output_type": "stream",
          "name": "stdout",
          "text": [
            "<re.Match object; span=(3, 5), match='ab'>\n"
          ]
        }
      ]
    },
    {
      "cell_type": "markdown",
      "source": [
        "Q15.Write a Python program that matches a string that has an a followed\n",
        "by three 'b'"
      ],
      "metadata": {
        "id": "CyVaEjb5Acg-"
      }
    },
    {
      "cell_type": "code",
      "source": [
        "import re\n",
        "pattern=r'ab{3}'\n",
        "print(re.search(pattern,'abcbbabbbbchd'))"
      ],
      "metadata": {
        "colab": {
          "base_uri": "https://localhost:8080/"
        },
        "id": "SzkI8r4DAghd",
        "outputId": "98c2941c-ea0b-4ffb-e307-c1077df0dc70"
      },
      "execution_count": null,
      "outputs": [
        {
          "output_type": "stream",
          "name": "stdout",
          "text": [
            "<re.Match object; span=(5, 9), match='abbb'>\n"
          ]
        }
      ]
    },
    {
      "cell_type": "markdown",
      "source": [
        "Q16.Write a Python program that matches a string that has an a followed\n",
        "by two to three 'b'."
      ],
      "metadata": {
        "id": "JwMq9HYZn939"
      }
    },
    {
      "cell_type": "code",
      "source": [
        "import re\n",
        "pattern=r'ab{2,3}'\n",
        "print(re.search(pattern,'cabbbbchd'))"
      ],
      "metadata": {
        "colab": {
          "base_uri": "https://localhost:8080/"
        },
        "id": "Fg1f5r9Xn9fz",
        "outputId": "e42b8105-1486-4eac-8307-a95a2b6060e2"
      },
      "execution_count": null,
      "outputs": [
        {
          "output_type": "stream",
          "name": "stdout",
          "text": [
            "<re.Match object; span=(1, 5), match='abbb'>\n"
          ]
        }
      ]
    },
    {
      "cell_type": "markdown",
      "source": [
        "Q17.Write a Python program to find sequences of lowercase letters\n",
        "joined with a underscore."
      ],
      "metadata": {
        "id": "woxB1bospBG7"
      }
    },
    {
      "cell_type": "code",
      "source": [
        "import re\n",
        "pattern=r'[a-z]+[a-z]+'\n",
        "print(re.findall(pattern,'cabbbbchd,agss_gbjsdhgaj'))"
      ],
      "metadata": {
        "colab": {
          "base_uri": "https://localhost:8080/"
        },
        "id": "MM7REkeBpK3_",
        "outputId": "9639124b-d41a-4daa-c70a-d43d2f9c07c1"
      },
      "execution_count": null,
      "outputs": [
        {
          "output_type": "stream",
          "name": "stdout",
          "text": [
            "['cabbbbchd', 'agss', 'gbjsdhgaj']\n"
          ]
        }
      ]
    },
    {
      "cell_type": "markdown",
      "source": [
        "Q18.Write a Python program to find the sequences of one upper case letter followed by lower case letters."
      ],
      "metadata": {
        "id": "sStfRHvDpoPw"
      }
    },
    {
      "cell_type": "code",
      "source": [
        "import re\n",
        "pattern=r'[A-Z][a-z]+'\n",
        "print(re.findall(pattern,'Good Morning everyone '))"
      ],
      "metadata": {
        "colab": {
          "base_uri": "https://localhost:8080/"
        },
        "id": "TYf2hLBqpwDq",
        "outputId": "41785fb3-9bdc-48fd-d037-5fd07ca8d76c"
      },
      "execution_count": null,
      "outputs": [
        {
          "output_type": "stream",
          "name": "stdout",
          "text": [
            "['Good', 'Morning']\n"
          ]
        }
      ]
    },
    {
      "cell_type": "markdown",
      "source": [
        "Q19.Write a Python program that matches a string that has an 'a'\n",
        "followed by anything, ending in 'b'."
      ],
      "metadata": {
        "id": "Y15CSzpwqi03"
      }
    },
    {
      "cell_type": "code",
      "source": [
        "import re\n",
        "pattern=r'e.*b$'\n",
        "print(re.search(pattern,'asdjheasdb'))"
      ],
      "metadata": {
        "colab": {
          "base_uri": "https://localhost:8080/"
        },
        "id": "Kk6SAXMWqpwG",
        "outputId": "b12c7877-e114-493d-c9ce-117b9bbbad9b"
      },
      "execution_count": null,
      "outputs": [
        {
          "output_type": "stream",
          "name": "stdout",
          "text": [
            "<re.Match object; span=(5, 10), match='easdb'>\n"
          ]
        }
      ]
    },
    {
      "cell_type": "markdown",
      "source": [
        "Q20.Write a Python program that matches a word at the beginning of a\n",
        "string."
      ],
      "metadata": {
        "id": "jGa0qH3XsCpC"
      }
    },
    {
      "cell_type": "code",
      "source": [
        "import re\n",
        "pattern=r'^\\w+'\n",
        "print(re.search(pattern,'wellcome to the world'))"
      ],
      "metadata": {
        "colab": {
          "base_uri": "https://localhost:8080/"
        },
        "id": "FXbqTOossLgl",
        "outputId": "5c053b19-d188-4e3d-b348-a1595ca5d1c9"
      },
      "execution_count": null,
      "outputs": [
        {
          "output_type": "stream",
          "name": "stdout",
          "text": [
            "<re.Match object; span=(0, 8), match='wellcome'>\n"
          ]
        }
      ]
    },
    {
      "cell_type": "markdown",
      "source": [
        "Q21.Write a Python program that matches a word at the end of a string,\n",
        "with optional punctuation."
      ],
      "metadata": {
        "id": "Vgrr5zrJtR5r"
      }
    },
    {
      "cell_type": "code",
      "source": [
        "import re\n",
        "pattern=r'\\w+\\W*$'\n",
        "print(re.search(pattern,'wellcome to the World '))"
      ],
      "metadata": {
        "colab": {
          "base_uri": "https://localhost:8080/"
        },
        "id": "6W2eRSeEtRhr",
        "outputId": "c0b61ecd-668f-4f12-d228-d526ff40cda2"
      },
      "execution_count": null,
      "outputs": [
        {
          "output_type": "stream",
          "name": "stdout",
          "text": [
            "<re.Match object; span=(16, 22), match='World '>\n"
          ]
        }
      ]
    },
    {
      "cell_type": "markdown",
      "source": [
        "Q22.Write a Python program that matches a word containing 'z'"
      ],
      "metadata": {
        "id": "UquVX_fkty8i"
      }
    },
    {
      "cell_type": "code",
      "source": [
        "import re\n",
        "pattern=r'\\w*z\\w*'\n",
        "print(re.search(pattern,'wellcome to the World zeenat '))"
      ],
      "metadata": {
        "colab": {
          "base_uri": "https://localhost:8080/"
        },
        "id": "dDHfNmC9u2K8",
        "outputId": "04eabec6-d432-491c-90c2-eb1edd9a7a58"
      },
      "execution_count": null,
      "outputs": [
        {
          "output_type": "stream",
          "name": "stdout",
          "text": [
            "<re.Match object; span=(22, 28), match='zeenat'>\n"
          ]
        }
      ]
    },
    {
      "cell_type": "markdown",
      "source": [
        "Q23.Write a Python program that matches a word containing 'z', not at\n",
        "the start or end of the word."
      ],
      "metadata": {
        "id": "IZDm0A4Gu8A7"
      }
    },
    {
      "cell_type": "code",
      "source": [
        "import re\n",
        "pattern=r'\\b\\w*z\\w*\\b'\n",
        "print(re.search(pattern,'wellcome to the World zeenat '))"
      ],
      "metadata": {
        "colab": {
          "base_uri": "https://localhost:8080/"
        },
        "id": "JcxUhrt2vULm",
        "outputId": "97fe2726-95c8-4265-ca99-3fe349bc4e7b"
      },
      "execution_count": null,
      "outputs": [
        {
          "output_type": "stream",
          "name": "stdout",
          "text": [
            "<re.Match object; span=(22, 28), match='zeenat'>\n"
          ]
        }
      ]
    },
    {
      "cell_type": "markdown",
      "source": [
        "Q24.Write a Python program to match a string that contains only upper\n",
        "and lowercase letters, numbers, and underscores."
      ],
      "metadata": {
        "id": "LCZzzhO-vgtu"
      }
    },
    {
      "cell_type": "code",
      "source": [
        "import re\n",
        "pattern=r'^[a-zA-Z0-9_]+$'\n",
        "print(re.search(pattern,'Python2_3'))"
      ],
      "metadata": {
        "colab": {
          "base_uri": "https://localhost:8080/"
        },
        "id": "n-NAjsthvnef",
        "outputId": "b927d6c8-109f-41c0-e99d-c4839ca34fbe"
      },
      "execution_count": null,
      "outputs": [
        {
          "output_type": "stream",
          "name": "stdout",
          "text": [
            "<re.Match object; span=(0, 9), match='Python2_3'>\n"
          ]
        }
      ]
    },
    {
      "cell_type": "markdown",
      "source": [
        "Q25.Write a Python program where a string will start with a specific\n",
        "number."
      ],
      "metadata": {
        "id": "fG5YJosY61qy"
      }
    },
    {
      "cell_type": "code",
      "source": [
        "import re\n",
        "pattern=r'^\\d+'\n",
        "print(re.search(pattern,'1ra2hi'))\n"
      ],
      "metadata": {
        "id": "0F5KuhN866li",
        "colab": {
          "base_uri": "https://localhost:8080/"
        },
        "outputId": "8b072a39-dbbf-4fce-961f-887edd574e4e"
      },
      "execution_count": null,
      "outputs": [
        {
          "output_type": "stream",
          "name": "stdout",
          "text": [
            "<re.Match object; span=(0, 1), match='1'>\n"
          ]
        }
      ]
    },
    {
      "cell_type": "markdown",
      "source": [
        "Q26.Write a Python program to remove leading zeros from an IP address"
      ],
      "metadata": {
        "id": "d2jCyhbFBlrr"
      }
    },
    {
      "cell_type": "code",
      "source": [
        "import re\n",
        "pattern=r'\\b0+(\\d+)\\b'\n",
        "re.sub(pattern,r'\\1','123.0025.235')\n"
      ],
      "metadata": {
        "colab": {
          "base_uri": "https://localhost:8080/",
          "height": 36
        },
        "id": "XiarH6QaB8FV",
        "outputId": "bf123551-7f6d-494e-d104-b4753d63e579"
      },
      "execution_count": null,
      "outputs": [
        {
          "output_type": "execute_result",
          "data": {
            "text/plain": [
              "'123.25.235'"
            ],
            "application/vnd.google.colaboratory.intrinsic+json": {
              "type": "string"
            }
          },
          "metadata": {},
          "execution_count": 25
        }
      ]
    },
    {
      "cell_type": "markdown",
      "source": [
        "Q27.Write a Python program to check for a number at the end of a\n",
        "string."
      ],
      "metadata": {
        "id": "SM1c-9OpGCY9"
      }
    },
    {
      "cell_type": "code",
      "source": [
        "import re\n",
        "pattern=r'\\d+$'\n",
        "re.search(pattern,'asd123')"
      ],
      "metadata": {
        "colab": {
          "base_uri": "https://localhost:8080/"
        },
        "id": "WqQ3E6lXGIDe",
        "outputId": "3c5df4bc-46ca-49e8-dc08-94a3a2e31500"
      },
      "execution_count": null,
      "outputs": [
        {
          "output_type": "execute_result",
          "data": {
            "text/plain": [
              "<re.Match object; span=(3, 6), match='123'>"
            ]
          },
          "metadata": {},
          "execution_count": 30
        }
      ]
    },
    {
      "cell_type": "markdown",
      "source": [
        "Q28.Write a Python program to search the numbers (0-9) of length\n",
        "between 1 to 3 in a given string."
      ],
      "metadata": {
        "id": "nPfN82koG3n7"
      }
    },
    {
      "cell_type": "code",
      "source": [
        "import re\n",
        "pattern=r'\\d{1,3}'\n",
        "re.findall(pattern,' 12453 asd0134 ')"
      ],
      "metadata": {
        "colab": {
          "base_uri": "https://localhost:8080/"
        },
        "id": "GlixDXmNG95W",
        "outputId": "d86f6007-d1cd-4342-eb9c-7c6237bd6b40"
      },
      "execution_count": null,
      "outputs": [
        {
          "output_type": "execute_result",
          "data": {
            "text/plain": [
              "['124', '53', '013', '4']"
            ]
          },
          "metadata": {},
          "execution_count": 38
        }
      ]
    },
    {
      "cell_type": "markdown",
      "source": [
        "Q29Write a Python program to replace whitespaces with an underscore\n",
        "and vice versa."
      ],
      "metadata": {
        "id": "KGu3u-uVIbTW"
      }
    },
    {
      "cell_type": "code",
      "source": [
        "import re\n",
        "pattern=r'[ _]+'\n",
        "print(re.sub(r'_',' ','Hello_world...Good_morning'))\n",
        "print(re.sub(r' ','_','Hello_world...Good morning'))\n"
      ],
      "metadata": {
        "colab": {
          "base_uri": "https://localhost:8080/"
        },
        "id": "0yLa3jByIfeQ",
        "outputId": "cc65008a-a8a4-477b-f69c-9f724b8ba2e0"
      },
      "execution_count": null,
      "outputs": [
        {
          "output_type": "stream",
          "name": "stdout",
          "text": [
            "Hello world...Good morning\n",
            "Hello_world...Good_morning\n"
          ]
        }
      ]
    },
    {
      "cell_type": "markdown",
      "source": [
        "Q30.Write a Python program to convert a date of yyyy-mm-dd format to\n",
        "dd-mm-yyyy format."
      ],
      "metadata": {
        "id": "o-9e6SF_VmZD"
      }
    },
    {
      "cell_type": "code",
      "source": [
        "import re\n",
        "pattern=r'(\\d{4})-(\\d{1,2})-(\\d{1,2})'\n",
        "\n",
        "re.sub(pattern,r'\\3-\\2-\\1','2023-11-4')\n"
      ],
      "metadata": {
        "colab": {
          "base_uri": "https://localhost:8080/",
          "height": 36
        },
        "id": "SPuy3uKtYYgT",
        "outputId": "298e4872-a8a2-4698-c144-469a1ba04a31"
      },
      "execution_count": null,
      "outputs": [
        {
          "output_type": "execute_result",
          "data": {
            "text/plain": [
              "'4-11-2023'"
            ],
            "application/vnd.google.colaboratory.intrinsic+json": {
              "type": "string"
            }
          },
          "metadata": {},
          "execution_count": 70
        }
      ]
    },
    {
      "cell_type": "markdown",
      "source": [
        "Q31.Write a Python program to separate and print the numbers of a given\n",
        "string."
      ],
      "metadata": {
        "id": "eLwWTlrLYuAF"
      }
    },
    {
      "cell_type": "code",
      "source": [
        "import re\n",
        "pattern=r'\\d+'\n",
        "num=(re.findall(pattern,'This are some numbers 136 1578 5682 in the string'))\n",
        "for n in num:\n",
        "    print(\"Numbers in string :\"n)\n",
        "\n"
      ],
      "metadata": {
        "colab": {
          "base_uri": "https://localhost:8080/"
        },
        "id": "puQzYlA7KZ3e",
        "outputId": "9bf2303f-0d88-45c5-98ce-02cd6a61ab3e"
      },
      "execution_count": null,
      "outputs": [
        {
          "output_type": "stream",
          "name": "stdout",
          "text": [
            "136\n",
            "1578\n",
            "5682\n"
          ]
        }
      ]
    },
    {
      "cell_type": "markdown",
      "source": [
        "Q32Write a Python program to find all words starting with 'a' or 'e' in a\n",
        "given string."
      ],
      "metadata": {
        "id": "4vqAkiWMLNul"
      }
    },
    {
      "cell_type": "code",
      "source": [
        "import re\n",
        "pattern=r'\\b[ae]\\w+'\n",
        "print(re.findall(pattern,'An apple a day keeps doctor away ,eat a fruit everyday'))"
      ],
      "metadata": {
        "colab": {
          "base_uri": "https://localhost:8080/"
        },
        "id": "KgSs62huL-K3",
        "outputId": "e774548d-ade4-4355-d741-31c4591c085e"
      },
      "execution_count": null,
      "outputs": [
        {
          "output_type": "stream",
          "name": "stdout",
          "text": [
            "['apple', 'away', 'eat', 'everyday']\n"
          ]
        }
      ]
    },
    {
      "cell_type": "markdown",
      "source": [
        "Q33.Write a Python program to abbreviate 'Road' as 'Rd.' in a given\n",
        "string."
      ],
      "metadata": {
        "id": "Hfz6T1JzVMbe"
      }
    },
    {
      "cell_type": "code",
      "source": [
        "import re\n",
        "pattern=r'\\bRoad\\b'\n",
        "print(re.sub(pattern,'Rd.','Road'))"
      ],
      "metadata": {
        "colab": {
          "base_uri": "https://localhost:8080/"
        },
        "id": "qwW05fxnZ2_q",
        "outputId": "7e64fd1a-fd2d-4456-ae3c-236529eedd89"
      },
      "execution_count": null,
      "outputs": [
        {
          "output_type": "stream",
          "name": "stdout",
          "text": [
            "Rd.\n"
          ]
        }
      ]
    }
  ]
}