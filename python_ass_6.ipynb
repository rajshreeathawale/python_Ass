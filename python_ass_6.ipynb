{
  "nbformat": 4,
  "nbformat_minor": 0,
  "metadata": {
    "colab": {
      "provenance": [],
      "authorship_tag": "ABX9TyOtpwgpVHnJBtHl59/45lBl",
      "include_colab_link": true
    },
    "kernelspec": {
      "name": "python3",
      "display_name": "Python 3"
    },
    "language_info": {
      "name": "python"
    }
  },
  "cells": [
    {
      "cell_type": "markdown",
      "metadata": {
        "id": "view-in-github",
        "colab_type": "text"
      },
      "source": [
        "<a href=\"https://colab.research.google.com/github/rajshreeathawale/python_Ass/blob/main/python_ass_6.ipynb\" target=\"_parent\"><img src=\"https://colab.research.google.com/assets/colab-badge.svg\" alt=\"Open In Colab\"/></a>"
      ]
    },
    {
      "cell_type": "markdown",
      "source": [
        "**Lab Assignment 6 – Python**"
      ],
      "metadata": {
        "id": "Whpy2Ht3_XHq"
      }
    },
    {
      "cell_type": "markdown",
      "source": [
        "Q1.Create a 4X2 integer array and Prints its attributes"
      ],
      "metadata": {
        "id": "kcuBmuhf_emj"
      }
    },
    {
      "cell_type": "code",
      "source": [
        "import numpy as np"
      ],
      "metadata": {
        "id": "LVzeyzd2_iwa"
      },
      "execution_count": null,
      "outputs": []
    },
    {
      "cell_type": "code",
      "source": [
        "a=np.array([[1,2],[3,4],[5,6],[7,8]])\n",
        "print(a.ndim)\n",
        "print(a.shape)\n",
        "print(a.size)\n",
        "print(a.T)\n",
        "print(a.dtype)"
      ],
      "metadata": {
        "colab": {
          "base_uri": "https://localhost:8080/"
        },
        "id": "oyn1zqw2_8S2",
        "outputId": "98bdf469-432b-4c45-c261-a354515977c7"
      },
      "execution_count": null,
      "outputs": [
        {
          "output_type": "stream",
          "name": "stdout",
          "text": [
            "2\n",
            "(4, 2)\n",
            "8\n",
            "[[1 3 5 7]\n",
            " [2 4 6 8]]\n",
            "int64\n"
          ]
        }
      ]
    },
    {
      "cell_type": "markdown",
      "source": [
        "Q2.Create a 5X2 integer array from a range between 100 to 200 such\n",
        "that the difference between each element is 10"
      ],
      "metadata": {
        "id": "hPo8VlyHA91l"
      }
    },
    {
      "cell_type": "code",
      "source": [
        "a= np.arange(100,200,10).reshape(5,2)\n",
        "print(a)"
      ],
      "metadata": {
        "colab": {
          "base_uri": "https://localhost:8080/"
        },
        "id": "H-7Iw-nMBDRc",
        "outputId": "bbde3da9-b3a9-4e08-8496-46f2f30ff6ca"
      },
      "execution_count": null,
      "outputs": [
        {
          "output_type": "stream",
          "name": "stdout",
          "text": [
            "[[100 110]\n",
            " [120 130]\n",
            " [140 150]\n",
            " [160 170]\n",
            " [180 190]]\n"
          ]
        }
      ]
    },
    {
      "cell_type": "markdown",
      "source": [
        "Q3.Create a numPy array. Return array of items by taking the third\n",
        "column from all rows"
      ],
      "metadata": {
        "id": "qdl8lMr2FZ-v"
      }
    },
    {
      "cell_type": "code",
      "source": [
        "a=np.array([[1,2,3],[4,5,6],[7,8,9]])\n",
        "print(a[:, 2])"
      ],
      "metadata": {
        "colab": {
          "base_uri": "https://localhost:8080/"
        },
        "id": "ODOBiXKeFd3b",
        "outputId": "1e2e34fd-f7c2-4432-de72-22eb017db931"
      },
      "execution_count": null,
      "outputs": [
        {
          "output_type": "stream",
          "name": "stdout",
          "text": [
            "[3 6 9]\n"
          ]
        }
      ]
    },
    {
      "cell_type": "markdown",
      "source": [
        "Q4.Create a numpy array with 3 elements. Do all the arithmetic\n",
        "operations with scalar element."
      ],
      "metadata": {
        "id": "QSl33qJiGiCA"
      }
    },
    {
      "cell_type": "code",
      "source": [
        "a=np.array([10,20,30])\n",
        "add=np.add(a,a)\n",
        "print(add)\n",
        "sub=np.subtract(a,a)\n",
        "print(sub)\n",
        "mul=np.multiply(a,a)\n",
        "print(mul)\n",
        "div=np.divide(a,a)\n",
        "print(div)"
      ],
      "metadata": {
        "colab": {
          "base_uri": "https://localhost:8080/"
        },
        "id": "kyKDHToRGrIW",
        "outputId": "bb14c6d4-4607-4fdd-8dc3-db9453ff395d"
      },
      "execution_count": null,
      "outputs": [
        {
          "output_type": "stream",
          "name": "stdout",
          "text": [
            "[20 40 60]\n",
            "[0 0 0]\n",
            "[100 400 900]\n",
            "[1. 1. 1.]\n"
          ]
        }
      ]
    },
    {
      "cell_type": "markdown",
      "source": [
        "Q5.Create two 2-D numpy array. Do array concatenation, stack, vstack\n",
        "and hstack on that."
      ],
      "metadata": {
        "id": "pDphOrGFIvuW"
      }
    },
    {
      "cell_type": "code",
      "source": [
        "a1=np.array([[10,20],[30,40]])\n",
        "a2=np.array([[50,60],[70,80]])\n",
        "conc=np.concatenate((a1,a2))\n",
        "print(\"concatination :\",conc)\n",
        "\n",
        "stack=np.stack((a1,a2))\n",
        "print(\"stack :\",stack)\n",
        "\n",
        "vstack=np.vstack((a1,a2))\n",
        "print(\"vstack :\",vstack)\n",
        "\n",
        "hstack=np.hstack((a1,a2))\n",
        "print(\"hstack :\",hstack)"
      ],
      "metadata": {
        "colab": {
          "base_uri": "https://localhost:8080/"
        },
        "id": "ob4mcrkdI0Z9",
        "outputId": "1831f472-46dc-47f5-adc8-f852880504f9"
      },
      "execution_count": null,
      "outputs": [
        {
          "output_type": "stream",
          "name": "stdout",
          "text": [
            "concatination : [[10 20]\n",
            " [30 40]\n",
            " [50 60]\n",
            " [70 80]]\n",
            "stack : [[[10 20]\n",
            "  [30 40]]\n",
            "\n",
            " [[50 60]\n",
            "  [70 80]]]\n",
            "vstack : [[10 20]\n",
            " [30 40]\n",
            " [50 60]\n",
            " [70 80]]\n",
            "hstack : [[10 20 50 60]\n",
            " [30 40 70 80]]\n"
          ]
        }
      ]
    },
    {
      "cell_type": "markdown",
      "source": [
        "Q6.Create an Nd numpy array. Using array filter retrieve all the even\n",
        "elements in that array."
      ],
      "metadata": {
        "id": "8jQ94yJkLEnT"
      }
    },
    {
      "cell_type": "code",
      "source": [
        "a=np.array([[1,2,3],[4,5,6],[7,8,9]])\n",
        "print(\"a : \",a)\n",
        "b=a%2==0\n",
        "c=a[b]\n",
        "print(\"c :\",c)"
      ],
      "metadata": {
        "colab": {
          "base_uri": "https://localhost:8080/"
        },
        "id": "yogN3gpeLOXu",
        "outputId": "e669d118-e2b3-486f-9b64-17b569df145c"
      },
      "execution_count": null,
      "outputs": [
        {
          "output_type": "stream",
          "name": "stdout",
          "text": [
            "a :  [[1 2 3]\n",
            " [4 5 6]\n",
            " [7 8 9]]\n",
            "c : [2 4 6 8]\n"
          ]
        }
      ]
    },
    {
      "cell_type": "markdown",
      "source": [
        "Q7.Write a python program to read a dataset from titanic file and do\n",
        "the following:\n",
        "\n",
        "• Read values to dataframe and print the first 6 rows.\n",
        "\n",
        "• Print the concise summary of the dataframe.\n",
        "\n",
        "• calculate the mean of each numeric column in dataframe.\n",
        "\n",
        "• find the count of null values in dataframe.\n",
        "\n",
        "• Take the average people survived.\n",
        "\n",
        "• Take the average male and female survived.\n",
        "\n",
        "• Group the entire dataframe based on Gender and Pclass."
      ],
      "metadata": {
        "id": "Ytjp58FkOfMb"
      }
    },
    {
      "cell_type": "code",
      "source": [
        "import pandas as pd"
      ],
      "metadata": {
        "id": "teCpttrROyFY"
      },
      "execution_count": null,
      "outputs": []
    },
    {
      "cell_type": "code",
      "source": [
        "df=pd.read_csv('titanic.csv')\n",
        "print(df.head(6))\n"
      ],
      "metadata": {
        "colab": {
          "base_uri": "https://localhost:8080/"
        },
        "id": "9CEOEB68Pg5S",
        "outputId": "6dc1cc1b-6e52-4020-c451-575396bd1cff"
      },
      "execution_count": null,
      "outputs": [
        {
          "output_type": "stream",
          "name": "stdout",
          "text": [
            "   PassengerId  Survived  Pclass  \\\n",
            "0            1         0       3   \n",
            "1            2         1       1   \n",
            "2            3         1       3   \n",
            "3            4         1       1   \n",
            "4            5         0       3   \n",
            "5            6         0       3   \n",
            "\n",
            "                                                Name     Sex   Age  SibSp  \\\n",
            "0                            Braund, Mr. Owen Harris    male  22.0      1   \n",
            "1  Cumings, Mrs. John Bradley (Florence Briggs Th...  female  38.0      1   \n",
            "2                             Heikkinen, Miss. Laina  female  26.0      0   \n",
            "3       Futrelle, Mrs. Jacques Heath (Lily May Peel)  female  35.0      1   \n",
            "4                           Allen, Mr. William Henry    male  35.0      0   \n",
            "5                                   Moran, Mr. James    male   NaN      0   \n",
            "\n",
            "   Parch            Ticket     Fare Cabin Embarked  \n",
            "0      0         A/5 21171   7.2500   NaN        S  \n",
            "1      0          PC 17599  71.2833   C85        C  \n",
            "2      0  STON/O2. 3101282   7.9250   NaN        S  \n",
            "3      0            113803  53.1000  C123        S  \n",
            "4      0            373450   8.0500   NaN        S  \n",
            "5      0            330877   8.4583   NaN        Q  \n"
          ]
        }
      ]
    },
    {
      "cell_type": "code",
      "source": [
        "print(df.info())"
      ],
      "metadata": {
        "colab": {
          "base_uri": "https://localhost:8080/"
        },
        "id": "VRq9LiDyRkzS",
        "outputId": "2bf56c4c-6cea-4055-a101-b5d74652752d"
      },
      "execution_count": null,
      "outputs": [
        {
          "output_type": "stream",
          "name": "stdout",
          "text": [
            "<class 'pandas.core.frame.DataFrame'>\n",
            "RangeIndex: 891 entries, 0 to 890\n",
            "Data columns (total 12 columns):\n",
            " #   Column       Non-Null Count  Dtype  \n",
            "---  ------       --------------  -----  \n",
            " 0   PassengerId  891 non-null    int64  \n",
            " 1   Survived     891 non-null    int64  \n",
            " 2   Pclass       891 non-null    int64  \n",
            " 3   Name         891 non-null    object \n",
            " 4   Sex          891 non-null    object \n",
            " 5   Age          714 non-null    float64\n",
            " 6   SibSp        891 non-null    int64  \n",
            " 7   Parch        891 non-null    int64  \n",
            " 8   Ticket       891 non-null    object \n",
            " 9   Fare         891 non-null    float64\n",
            " 10  Cabin        204 non-null    object \n",
            " 11  Embarked     889 non-null    object \n",
            "dtypes: float64(2), int64(5), object(5)\n",
            "memory usage: 83.7+ KB\n",
            "None\n"
          ]
        }
      ]
    },
    {
      "cell_type": "code",
      "source": [
        "print(df.mean())"
      ],
      "metadata": {
        "colab": {
          "base_uri": "https://localhost:8080/"
        },
        "id": "W88tXwy0R5x8",
        "outputId": "91fb7fe8-4321-4dbe-d5ea-dfab37c4b8c0"
      },
      "execution_count": null,
      "outputs": [
        {
          "output_type": "stream",
          "name": "stdout",
          "text": [
            "PassengerId    446.000000\n",
            "Survived         0.383838\n",
            "Pclass           2.308642\n",
            "Age             29.699118\n",
            "SibSp            0.523008\n",
            "Parch            0.381594\n",
            "Fare            32.204208\n",
            "dtype: float64\n"
          ]
        },
        {
          "output_type": "stream",
          "name": "stderr",
          "text": [
            "<ipython-input-42-f98cceecb4a0>:1: FutureWarning: The default value of numeric_only in DataFrame.mean is deprecated. In a future version, it will default to False. In addition, specifying 'numeric_only=None' is deprecated. Select only valid columns or specify the value of numeric_only to silence this warning.\n",
            "  print(df.mean())\n"
          ]
        }
      ]
    },
    {
      "cell_type": "code",
      "source": [
        "print(df.isnull().sum())"
      ],
      "metadata": {
        "colab": {
          "base_uri": "https://localhost:8080/"
        },
        "id": "W753cJwQSDah",
        "outputId": "08be1ada-a34d-40ce-b5c6-14a8c76d25c3"
      },
      "execution_count": null,
      "outputs": [
        {
          "output_type": "stream",
          "name": "stdout",
          "text": [
            "PassengerId      0\n",
            "Survived         0\n",
            "Pclass           0\n",
            "Name             0\n",
            "Sex              0\n",
            "Age            177\n",
            "SibSp            0\n",
            "Parch            0\n",
            "Ticket           0\n",
            "Fare             0\n",
            "Cabin          687\n",
            "Embarked         2\n",
            "dtype: int64\n"
          ]
        }
      ]
    },
    {
      "cell_type": "code",
      "source": [
        "print(df['Survived'].mean())"
      ],
      "metadata": {
        "colab": {
          "base_uri": "https://localhost:8080/"
        },
        "id": "07SHe4e4SVyN",
        "outputId": "409019d0-0b55-4d9e-c8f6-7a1a801fb506"
      },
      "execution_count": null,
      "outputs": [
        {
          "output_type": "stream",
          "name": "stdout",
          "text": [
            "0.3838383838383838\n"
          ]
        }
      ]
    },
    {
      "cell_type": "code",
      "source": [
        "print(df[df['Sex']=='male']['Survived'].mean())"
      ],
      "metadata": {
        "colab": {
          "base_uri": "https://localhost:8080/"
        },
        "id": "yFj3ikORS3PD",
        "outputId": "8e9ee550-d73f-4f92-dd3a-998b20b77645"
      },
      "execution_count": null,
      "outputs": [
        {
          "output_type": "stream",
          "name": "stdout",
          "text": [
            "0.18890814558058924\n"
          ]
        }
      ]
    },
    {
      "cell_type": "code",
      "source": [
        "print(df[df['Sex']=='female']['Survived'].mean())"
      ],
      "metadata": {
        "colab": {
          "base_uri": "https://localhost:8080/"
        },
        "id": "LJQv0IETTXJ6",
        "outputId": "91599d46-42d2-4d36-b543-d7f73db9a2c2"
      },
      "execution_count": null,
      "outputs": [
        {
          "output_type": "stream",
          "name": "stdout",
          "text": [
            "0.7420382165605095\n"
          ]
        }
      ]
    },
    {
      "cell_type": "code",
      "source": [
        "a=df.groupby(['Sex','Pclass'])\n",
        "print(a)\n",
        "for Sex,Pclass in a:\n",
        "    print(Sex)\n",
        "    print(Pclass)\n"
      ],
      "metadata": {
        "colab": {
          "base_uri": "https://localhost:8080/"
        },
        "id": "fcZ7HIhgTmrO",
        "outputId": "ca0614d5-b124-4c9f-e91e-3f00bd173a5c"
      },
      "execution_count": null,
      "outputs": [
        {
          "output_type": "stream",
          "name": "stdout",
          "text": [
            "<pandas.core.groupby.generic.DataFrameGroupBy object at 0x79c3fb3793f0>\n",
            "('female', 1)\n",
            "     PassengerId  Survived  Pclass  \\\n",
            "1              2         1       1   \n",
            "3              4         1       1   \n",
            "11            12         1       1   \n",
            "31            32         1       1   \n",
            "52            53         1       1   \n",
            "..           ...       ...     ...   \n",
            "856          857         1       1   \n",
            "862          863         1       1   \n",
            "871          872         1       1   \n",
            "879          880         1       1   \n",
            "887          888         1       1   \n",
            "\n",
            "                                                  Name     Sex   Age  SibSp  \\\n",
            "1    Cumings, Mrs. John Bradley (Florence Briggs Th...  female  38.0      1   \n",
            "3         Futrelle, Mrs. Jacques Heath (Lily May Peel)  female  35.0      1   \n",
            "11                            Bonnell, Miss. Elizabeth  female  58.0      0   \n",
            "31      Spencer, Mrs. William Augustus (Marie Eugenie)  female   NaN      1   \n",
            "52            Harper, Mrs. Henry Sleeper (Myna Haxtun)  female  49.0      1   \n",
            "..                                                 ...     ...   ...    ...   \n",
            "856         Wick, Mrs. George Dennick (Mary Hitchcock)  female  45.0      1   \n",
            "862  Swift, Mrs. Frederick Joel (Margaret Welles Ba...  female  48.0      0   \n",
            "871   Beckwith, Mrs. Richard Leonard (Sallie Monypeny)  female  47.0      1   \n",
            "879      Potter, Mrs. Thomas Jr (Lily Alexenia Wilson)  female  56.0      0   \n",
            "887                       Graham, Miss. Margaret Edith  female  19.0      0   \n",
            "\n",
            "     Parch    Ticket      Fare Cabin Embarked  \n",
            "1        0  PC 17599   71.2833   C85        C  \n",
            "3        0    113803   53.1000  C123        S  \n",
            "11       0    113783   26.5500  C103        S  \n",
            "31       0  PC 17569  146.5208   B78        C  \n",
            "52       0  PC 17572   76.7292   D33        C  \n",
            "..     ...       ...       ...   ...      ...  \n",
            "856      1     36928  164.8667   NaN        S  \n",
            "862      0     17466   25.9292   D17        S  \n",
            "871      1     11751   52.5542   D35        S  \n",
            "879      1     11767   83.1583   C50        C  \n",
            "887      0    112053   30.0000   B42        S  \n",
            "\n",
            "[94 rows x 12 columns]\n",
            "('female', 2)\n",
            "     PassengerId  Survived  Pclass  \\\n",
            "9             10         1       2   \n",
            "15            16         1       2   \n",
            "41            42         0       2   \n",
            "43            44         1       2   \n",
            "53            54         1       2   \n",
            "..           ...       ...     ...   \n",
            "854          855         0       2   \n",
            "865          866         1       2   \n",
            "866          867         1       2   \n",
            "874          875         1       2   \n",
            "880          881         1       2   \n",
            "\n",
            "                                                  Name     Sex   Age  SibSp  \\\n",
            "9                  Nasser, Mrs. Nicholas (Adele Achem)  female  14.0      1   \n",
            "15                     Hewlett, Mrs. (Mary D Kingcome)  female  55.0      0   \n",
            "41   Turpin, Mrs. William John Robert (Dorothy Ann ...  female  27.0      1   \n",
            "43            Laroche, Miss. Simonne Marie Anne Andree  female   3.0      1   \n",
            "53   Faunthorpe, Mrs. Lizzie (Elizabeth Anne Wilkin...  female  29.0      1   \n",
            "..                                                 ...     ...   ...    ...   \n",
            "854      Carter, Mrs. Ernest Courtenay (Lilian Hughes)  female  44.0      1   \n",
            "865                           Bystrom, Mrs. (Karolina)  female  42.0      0   \n",
            "866                       Duran y More, Miss. Asuncion  female  27.0      1   \n",
            "874              Abelson, Mrs. Samuel (Hannah Wizosky)  female  28.0      1   \n",
            "880       Shelley, Mrs. William (Imanita Parrish Hall)  female  25.0      0   \n",
            "\n",
            "     Parch         Ticket     Fare Cabin Embarked  \n",
            "9        0         237736  30.0708   NaN        C  \n",
            "15       0         248706  16.0000   NaN        S  \n",
            "41       0          11668  21.0000   NaN        S  \n",
            "43       2  SC/Paris 2123  41.5792   NaN        C  \n",
            "53       0           2926  26.0000   NaN        S  \n",
            "..     ...            ...      ...   ...      ...  \n",
            "854      0         244252  26.0000   NaN        S  \n",
            "865      0         236852  13.0000   NaN        S  \n",
            "866      0  SC/PARIS 2149  13.8583   NaN        C  \n",
            "874      0      P/PP 3381  24.0000   NaN        C  \n",
            "880      1         230433  26.0000   NaN        S  \n",
            "\n",
            "[76 rows x 12 columns]\n",
            "('female', 3)\n",
            "     PassengerId  Survived  Pclass  \\\n",
            "2              3         1       3   \n",
            "8              9         1       3   \n",
            "10            11         1       3   \n",
            "14            15         0       3   \n",
            "18            19         0       3   \n",
            "..           ...       ...     ...   \n",
            "863          864         0       3   \n",
            "875          876         1       3   \n",
            "882          883         0       3   \n",
            "885          886         0       3   \n",
            "888          889         0       3   \n",
            "\n",
            "                                                  Name     Sex   Age  SibSp  \\\n",
            "2                               Heikkinen, Miss. Laina  female  26.0      0   \n",
            "8    Johnson, Mrs. Oscar W (Elisabeth Vilhelmina Berg)  female  27.0      0   \n",
            "10                     Sandstrom, Miss. Marguerite Rut  female   4.0      1   \n",
            "14                Vestrom, Miss. Hulda Amanda Adolfina  female  14.0      0   \n",
            "18   Vander Planke, Mrs. Julius (Emelia Maria Vande...  female  31.0      1   \n",
            "..                                                 ...     ...   ...    ...   \n",
            "863                  Sage, Miss. Dorothy Edith \"Dolly\"  female   NaN      8   \n",
            "875                   Najib, Miss. Adele Kiamie \"Jane\"  female  15.0      0   \n",
            "882                       Dahlberg, Miss. Gerda Ulrika  female  22.0      0   \n",
            "885               Rice, Mrs. William (Margaret Norton)  female  39.0      0   \n",
            "888           Johnston, Miss. Catherine Helen \"Carrie\"  female   NaN      1   \n",
            "\n",
            "     Parch            Ticket     Fare Cabin Embarked  \n",
            "2        0  STON/O2. 3101282   7.9250   NaN        S  \n",
            "8        2            347742  11.1333   NaN        S  \n",
            "10       1           PP 9549  16.7000    G6        S  \n",
            "14       0            350406   7.8542   NaN        S  \n",
            "18       0            345763  18.0000   NaN        S  \n",
            "..     ...               ...      ...   ...      ...  \n",
            "863      2          CA. 2343  69.5500   NaN        S  \n",
            "875      0              2667   7.2250   NaN        C  \n",
            "882      0              7552  10.5167   NaN        S  \n",
            "885      5            382652  29.1250   NaN        Q  \n",
            "888      2        W./C. 6607  23.4500   NaN        S  \n",
            "\n",
            "[144 rows x 12 columns]\n",
            "('male', 1)\n",
            "     PassengerId  Survived  Pclass                                  Name  \\\n",
            "6              7         0       1               McCarthy, Mr. Timothy J   \n",
            "23            24         1       1          Sloper, Mr. William Thompson   \n",
            "27            28         0       1        Fortune, Mr. Charles Alexander   \n",
            "30            31         0       1              Uruchurtu, Don. Manuel E   \n",
            "34            35         0       1               Meyer, Mr. Edgar Joseph   \n",
            "..           ...       ...     ...                                   ...   \n",
            "839          840         1       1                  Marechal, Mr. Pierre   \n",
            "857          858         1       1                 Daly, Mr. Peter Denis   \n",
            "867          868         0       1  Roebling, Mr. Washington Augustus II   \n",
            "872          873         0       1              Carlsson, Mr. Frans Olof   \n",
            "889          890         1       1                 Behr, Mr. Karl Howell   \n",
            "\n",
            "      Sex   Age  SibSp  Parch    Ticket      Fare        Cabin Embarked  \n",
            "6    male  54.0      0      0     17463   51.8625          E46        S  \n",
            "23   male  28.0      0      0    113788   35.5000           A6        S  \n",
            "27   male  19.0      3      2     19950  263.0000  C23 C25 C27        S  \n",
            "30   male  40.0      0      0  PC 17601   27.7208          NaN        C  \n",
            "34   male  28.0      1      0  PC 17604   82.1708          NaN        C  \n",
            "..    ...   ...    ...    ...       ...       ...          ...      ...  \n",
            "839  male   NaN      0      0     11774   29.7000          C47        C  \n",
            "857  male  51.0      0      0    113055   26.5500          E17        S  \n",
            "867  male  31.0      0      0  PC 17590   50.4958          A24        S  \n",
            "872  male  33.0      0      0       695    5.0000  B51 B53 B55        S  \n",
            "889  male  26.0      0      0    111369   30.0000         C148        C  \n",
            "\n",
            "[122 rows x 12 columns]\n",
            "('male', 2)\n",
            "     PassengerId  Survived  Pclass                           Name   Sex   Age  \\\n",
            "17            18         1       2   Williams, Mr. Charles Eugene  male   NaN   \n",
            "20            21         0       2           Fynney, Mr. Joseph J  male  35.0   \n",
            "21            22         1       2          Beesley, Mr. Lawrence  male  34.0   \n",
            "33            34         0       2          Wheadon, Mr. Edward H  male  66.0   \n",
            "70            71         0       2     Jenkin, Mr. Stephen Curnow  male  32.0   \n",
            "..           ...       ...     ...                            ...   ...   ...   \n",
            "848          849         0       2              Harper, Rev. John  male  28.0   \n",
            "861          862         0       2    Giles, Mr. Frederick Edward  male  21.0   \n",
            "864          865         0       2         Gill, Mr. John William  male  24.0   \n",
            "883          884         0       2  Banfield, Mr. Frederick James  male  28.0   \n",
            "886          887         0       2          Montvila, Rev. Juozas  male  27.0   \n",
            "\n",
            "     SibSp  Parch            Ticket  Fare Cabin Embarked  \n",
            "17       0      0            244373  13.0   NaN        S  \n",
            "20       0      0            239865  26.0   NaN        S  \n",
            "21       0      0            248698  13.0   D56        S  \n",
            "33       0      0        C.A. 24579  10.5   NaN        S  \n",
            "70       0      0        C.A. 33111  10.5   NaN        S  \n",
            "..     ...    ...               ...   ...   ...      ...  \n",
            "848      0      1            248727  33.0   NaN        S  \n",
            "861      1      0             28134  11.5   NaN        S  \n",
            "864      0      0            233866  13.0   NaN        S  \n",
            "883      0      0  C.A./SOTON 34068  10.5   NaN        S  \n",
            "886      0      0            211536  13.0   NaN        S  \n",
            "\n",
            "[108 rows x 12 columns]\n",
            "('male', 3)\n",
            "     PassengerId  Survived  Pclass                            Name   Sex  \\\n",
            "0              1         0       3         Braund, Mr. Owen Harris  male   \n",
            "4              5         0       3        Allen, Mr. William Henry  male   \n",
            "5              6         0       3                Moran, Mr. James  male   \n",
            "7              8         0       3  Palsson, Master. Gosta Leonard  male   \n",
            "12            13         0       3  Saundercock, Mr. William Henry  male   \n",
            "..           ...       ...     ...                             ...   ...   \n",
            "877          878         0       3            Petroff, Mr. Nedelio  male   \n",
            "878          879         0       3              Laleff, Mr. Kristo  male   \n",
            "881          882         0       3              Markun, Mr. Johann  male   \n",
            "884          885         0       3          Sutehall, Mr. Henry Jr  male   \n",
            "890          891         0       3             Dooley, Mr. Patrick  male   \n",
            "\n",
            "      Age  SibSp  Parch           Ticket     Fare Cabin Embarked  \n",
            "0    22.0      1      0        A/5 21171   7.2500   NaN        S  \n",
            "4    35.0      0      0           373450   8.0500   NaN        S  \n",
            "5     NaN      0      0           330877   8.4583   NaN        Q  \n",
            "7     2.0      3      1           349909  21.0750   NaN        S  \n",
            "12   20.0      0      0        A/5. 2151   8.0500   NaN        S  \n",
            "..    ...    ...    ...              ...      ...   ...      ...  \n",
            "877  19.0      0      0           349212   7.8958   NaN        S  \n",
            "878   NaN      0      0           349217   7.8958   NaN        S  \n",
            "881  33.0      0      0           349257   7.8958   NaN        S  \n",
            "884  25.0      0      0  SOTON/OQ 392076   7.0500   NaN        S  \n",
            "890  32.0      0      0           370376   7.7500   NaN        Q  \n",
            "\n",
            "[347 rows x 12 columns]\n"
          ]
        }
      ]
    },
    {
      "cell_type": "markdown",
      "source": [
        "Q8Write a python program to read a dataset from weather file and do\n",
        "the following:\n",
        "\n",
        "• Read values to dataframe and print the first 6 rows.\n",
        "\n",
        "• Print the concise summary of the dataframe.\n",
        "\n",
        "• calculate the mean of each numeric column in dataframe.\n",
        "\n",
        "• find the count of null values in dataframe.\n",
        "\n",
        "• Take the maximum temperature from the weather data.\n",
        "\n",
        "• Retrieve the average windspeed from the weather data.\n",
        "\n",
        "• Make a new dataframe which contains minmum values of all\n",
        "columns based on event.\n",
        "\n",
        "• Make a new dataframe which contains minmum temperature based\n",
        "on event."
      ],
      "metadata": {
        "id": "6TL6UKg9r7Bd"
      }
    },
    {
      "cell_type": "code",
      "source": [
        "df1=pd.read_csv('weather.csv')\n",
        "print(df1)\n",
        "print('\\n')\n",
        "print(\"First six rows :\\n\",df1.head(6))\n"
      ],
      "metadata": {
        "colab": {
          "base_uri": "https://localhost:8080/"
        },
        "id": "xcBh-9WWsNGH",
        "outputId": "ca0eb75f-d11d-46fc-ce27-d7763ea2700c"
      },
      "execution_count": null,
      "outputs": [
        {
          "output_type": "stream",
          "name": "stdout",
          "text": [
            "    Unnamed: 0         day  temperature  windspeed   event\n",
            "0            0  01-01-2022         32.0        6.0    Rain\n",
            "1            1  01-04-2022          NaN        9.0   Sunny\n",
            "2            2  01-05-2022         28.0        NaN    Snow\n",
            "3            3  01-06-2022          NaN        7.0     NaN\n",
            "4            4  01-07-2022         32.0        NaN    Rain\n",
            "5            5  01-08-2022          NaN        NaN   Sunny\n",
            "6            6  01-09-2022          NaN        NaN     NaN\n",
            "7            7  01-10-2022         34.0        8.0  Cloudy\n",
            "8            8  01-10-2022         34.0        8.0  Cloudy\n",
            "9            9  01-11-2022         40.0       12.0   Sunny\n",
            "10          10  01-11-2022         40.0       12.0   Sunny\n",
            "\n",
            "\n",
            "First six rows :\n",
            "    Unnamed: 0         day  temperature  windspeed  event\n",
            "0           0  01-01-2022         32.0        6.0   Rain\n",
            "1           1  01-04-2022          NaN        9.0  Sunny\n",
            "2           2  01-05-2022         28.0        NaN   Snow\n",
            "3           3  01-06-2022          NaN        7.0    NaN\n",
            "4           4  01-07-2022         32.0        NaN   Rain\n",
            "5           5  01-08-2022          NaN        NaN  Sunny\n"
          ]
        }
      ]
    },
    {
      "cell_type": "code",
      "source": [
        "print(\"Concise summery of the Dataframe :\\n\")\n",
        "print(df1.info())"
      ],
      "metadata": {
        "colab": {
          "base_uri": "https://localhost:8080/"
        },
        "id": "O_Jx5f-vsxWz",
        "outputId": "912eaed4-2078-4ac3-9ebd-2428657b3c87"
      },
      "execution_count": null,
      "outputs": [
        {
          "output_type": "stream",
          "name": "stdout",
          "text": [
            "Consise summery of the Dataframe :\n",
            "\n",
            "<class 'pandas.core.frame.DataFrame'>\n",
            "RangeIndex: 11 entries, 0 to 10\n",
            "Data columns (total 5 columns):\n",
            " #   Column       Non-Null Count  Dtype  \n",
            "---  ------       --------------  -----  \n",
            " 0   Unnamed: 0   11 non-null     int64  \n",
            " 1   day          11 non-null     object \n",
            " 2   temperature  7 non-null      float64\n",
            " 3   windspeed    7 non-null      float64\n",
            " 4   event        9 non-null      object \n",
            "dtypes: float64(2), int64(1), object(2)\n",
            "memory usage: 568.0+ bytes\n",
            "None\n"
          ]
        }
      ]
    },
    {
      "cell_type": "code",
      "source": [
        "print(\"Mean of each numeric column :\\n\",df1.mean())"
      ],
      "metadata": {
        "colab": {
          "base_uri": "https://localhost:8080/"
        },
        "id": "5E7HLg8FuMnr",
        "outputId": "8d15dc48-c8a1-4c6c-b19d-109994245177"
      },
      "execution_count": null,
      "outputs": [
        {
          "output_type": "stream",
          "name": "stdout",
          "text": [
            "Mean of each numeric column :\n",
            " Unnamed: 0      5.000000\n",
            "temperature    34.285714\n",
            "windspeed       8.857143\n",
            "dtype: float64\n"
          ]
        },
        {
          "output_type": "stream",
          "name": "stderr",
          "text": [
            "<ipython-input-69-720a9f7da456>:1: FutureWarning: The default value of numeric_only in DataFrame.mean is deprecated. In a future version, it will default to False. In addition, specifying 'numeric_only=None' is deprecated. Select only valid columns or specify the value of numeric_only to silence this warning.\n",
            "  print(\"Mean of each numeric column :\\n\",df1.mean())\n"
          ]
        }
      ]
    },
    {
      "cell_type": "code",
      "source": [
        "print(\"Count of all null values in dataframe :\\n\",df1.isnull().sum())"
      ],
      "metadata": {
        "colab": {
          "base_uri": "https://localhost:8080/"
        },
        "id": "HgkzDWvvukoE",
        "outputId": "3992dea4-e5a3-4f21-f4de-027988f86d3f"
      },
      "execution_count": null,
      "outputs": [
        {
          "output_type": "stream",
          "name": "stdout",
          "text": [
            "Count of all null values in dataframe :\n",
            " Unnamed: 0     0\n",
            "day            0\n",
            "temperature    4\n",
            "windspeed      4\n",
            "event          2\n",
            "dtype: int64\n"
          ]
        }
      ]
    },
    {
      "cell_type": "code",
      "source": [
        "print(\"Maximum Temperature :\\n\",df1['temperature'].max())"
      ],
      "metadata": {
        "colab": {
          "base_uri": "https://localhost:8080/"
        },
        "id": "Kmef5F3Zu93T",
        "outputId": "6b46732c-d104-49a0-d565-5e596f8f4fb6"
      },
      "execution_count": null,
      "outputs": [
        {
          "output_type": "stream",
          "name": "stdout",
          "text": [
            "Maximum Temperature :\n",
            " 40.0\n"
          ]
        }
      ]
    },
    {
      "cell_type": "code",
      "source": [
        "print(\"Average windspeed :\\n\",df1['windspeed'].mean())"
      ],
      "metadata": {
        "colab": {
          "base_uri": "https://localhost:8080/"
        },
        "id": "TAOsVwFgvb_d",
        "outputId": "bde117ff-f6fa-4d6d-daca-3db811d930e9"
      },
      "execution_count": null,
      "outputs": [
        {
          "output_type": "stream",
          "name": "stdout",
          "text": [
            "Average windspeed :\n",
            " 8.857142857142858\n"
          ]
        }
      ]
    },
    {
      "cell_type": "code",
      "source": [
        "df2=df1.groupby('event').min()\n",
        "print(\"Minimum value of all column based on events :\\n\",df2)"
      ],
      "metadata": {
        "colab": {
          "base_uri": "https://localhost:8080/"
        },
        "id": "hJ7FrhMyv8q9",
        "outputId": "9d692c05-22c6-44ac-b71c-b13bee8501f1"
      },
      "execution_count": null,
      "outputs": [
        {
          "output_type": "stream",
          "name": "stdout",
          "text": [
            "Minimum value of all column based on events :\n",
            "         Unnamed: 0         day  temperature  windspeed\n",
            "event                                                 \n",
            "Cloudy           7  01-10-2022         34.0        8.0\n",
            "Rain             0  01-01-2022         32.0        6.0\n",
            "Snow             2  01-05-2022         28.0        NaN\n",
            "Sunny            1  01-04-2022         40.0        9.0\n"
          ]
        }
      ]
    },
    {
      "cell_type": "code",
      "source": [
        "df3=df1.groupby('event')['temperature'].min()\n",
        "print(\"Minimum temperature based on event :\\n\",df3)"
      ],
      "metadata": {
        "colab": {
          "base_uri": "https://localhost:8080/"
        },
        "id": "6gL1Vvq_wqv3",
        "outputId": "2990900a-86a3-4962-e620-29e75a0a77b7"
      },
      "execution_count": null,
      "outputs": [
        {
          "output_type": "stream",
          "name": "stdout",
          "text": [
            "Minimum temperature based on event :\n",
            " event\n",
            "Cloudy    34.0\n",
            "Rain      32.0\n",
            "Snow      28.0\n",
            "Sunny     40.0\n",
            "Name: temperature, dtype: float64\n"
          ]
        }
      ]
    },
    {
      "cell_type": "code",
      "source": [],
      "metadata": {
        "id": "eewazDA7xMnk"
      },
      "execution_count": null,
      "outputs": []
    },
    {
      "cell_type": "markdown",
      "source": [
        "Q9.Write a python program to read a dataset from diamonds file and\n",
        "do the following:\n",
        "\n",
        "• Read values to dataframe and print the first 6 rows.\n",
        "\n",
        "• Print the concise summary of the dataframe.\n",
        "\n",
        "• calculate the mean of each numeric column in dataframe.\n",
        "\n",
        "• find the count of null values in dataframe.\n",
        "\n",
        "• Calculate min, max price for each cut of diamonds.\n",
        "\n",
        "• Take the count of all duplicate rows in the dataframe."
      ],
      "metadata": {
        "id": "oYSYJBB6xO7L"
      }
    },
    {
      "cell_type": "code",
      "source": [
        "d=pd.read_csv('diamonds.csv')\n",
        "print(d)\n"
      ],
      "metadata": {
        "colab": {
          "base_uri": "https://localhost:8080/"
        },
        "id": "kQmiOYYzxalZ",
        "outputId": "98adab0d-39bd-41c9-e7fe-6c782e8e40e9"
      },
      "execution_count": null,
      "outputs": [
        {
          "output_type": "stream",
          "name": "stdout",
          "text": [
            "       Unnamed: 0  carat        cut color clarity  depth  table  price     x  \\\n",
            "0               1   0.23      Ideal     E     SI2   61.5   55.0    326  3.95   \n",
            "1               2   0.21    Premium     E     SI1   59.8   61.0    326  3.89   \n",
            "2               3   0.23       Good     E     VS1   56.9   65.0    327  4.05   \n",
            "3               4   0.29    Premium     I     VS2   62.4   58.0    334  4.20   \n",
            "4               5   0.31       Good     J     SI2   63.3   58.0    335  4.34   \n",
            "...           ...    ...        ...   ...     ...    ...    ...    ...   ...   \n",
            "53935       53936   0.72      Ideal     D     SI1   60.8   57.0   2757  5.75   \n",
            "53936       53937   0.72       Good     D     SI1   63.1   55.0   2757  5.69   \n",
            "53937       53938   0.70  Very Good     D     SI1   62.8   60.0   2757  5.66   \n",
            "53938       53939   0.86    Premium     H     SI2   61.0   58.0   2757  6.15   \n",
            "53939       53940   0.75      Ideal     D     SI2   62.2   55.0   2757  5.83   \n",
            "\n",
            "          y     z  \n",
            "0      3.98  2.43  \n",
            "1      3.84  2.31  \n",
            "2      4.07  2.31  \n",
            "3      4.23  2.63  \n",
            "4      4.35  2.75  \n",
            "...     ...   ...  \n",
            "53935  5.76  3.50  \n",
            "53936  5.75  3.61  \n",
            "53937  5.68  3.56  \n",
            "53938  6.12  3.74  \n",
            "53939  5.87  3.64  \n",
            "\n",
            "[53940 rows x 11 columns]\n"
          ]
        }
      ]
    },
    {
      "cell_type": "code",
      "source": [
        "print(d.head(6))"
      ],
      "metadata": {
        "colab": {
          "base_uri": "https://localhost:8080/"
        },
        "id": "QVgNGwZ9z7qW",
        "outputId": "b9d527be-8cba-485a-eec6-332e279db0e5"
      },
      "execution_count": null,
      "outputs": [
        {
          "output_type": "stream",
          "name": "stdout",
          "text": [
            "   Unnamed: 0  carat        cut color clarity  depth  table  price     x  \\\n",
            "0           1   0.23      Ideal     E     SI2   61.5   55.0    326  3.95   \n",
            "1           2   0.21    Premium     E     SI1   59.8   61.0    326  3.89   \n",
            "2           3   0.23       Good     E     VS1   56.9   65.0    327  4.05   \n",
            "3           4   0.29    Premium     I     VS2   62.4   58.0    334  4.20   \n",
            "4           5   0.31       Good     J     SI2   63.3   58.0    335  4.34   \n",
            "5           6   0.24  Very Good     J    VVS2   62.8   57.0    336  3.94   \n",
            "\n",
            "      y     z  \n",
            "0  3.98  2.43  \n",
            "1  3.84  2.31  \n",
            "2  4.07  2.31  \n",
            "3  4.23  2.63  \n",
            "4  4.35  2.75  \n",
            "5  3.96  2.48  \n"
          ]
        }
      ]
    },
    {
      "cell_type": "code",
      "source": [
        "print(d.info())"
      ],
      "metadata": {
        "colab": {
          "base_uri": "https://localhost:8080/"
        },
        "id": "YFqby07Tz_bR",
        "outputId": "326357ed-f95d-4a37-b703-1273441d5bd6"
      },
      "execution_count": null,
      "outputs": [
        {
          "output_type": "stream",
          "name": "stdout",
          "text": [
            "<class 'pandas.core.frame.DataFrame'>\n",
            "RangeIndex: 53940 entries, 0 to 53939\n",
            "Data columns (total 11 columns):\n",
            " #   Column      Non-Null Count  Dtype  \n",
            "---  ------      --------------  -----  \n",
            " 0   Unnamed: 0  53940 non-null  int64  \n",
            " 1   carat       53940 non-null  float64\n",
            " 2   cut         53940 non-null  object \n",
            " 3   color       53940 non-null  object \n",
            " 4   clarity     53940 non-null  object \n",
            " 5   depth       53940 non-null  float64\n",
            " 6   table       53940 non-null  float64\n",
            " 7   price       53940 non-null  int64  \n",
            " 8   x           53940 non-null  float64\n",
            " 9   y           53940 non-null  float64\n",
            " 10  z           53940 non-null  float64\n",
            "dtypes: float64(6), int64(2), object(3)\n",
            "memory usage: 4.5+ MB\n",
            "None\n"
          ]
        }
      ]
    },
    {
      "cell_type": "code",
      "source": [
        "print(\"Mean of each numeric column:\\n\",d.mean())"
      ],
      "metadata": {
        "colab": {
          "base_uri": "https://localhost:8080/"
        },
        "id": "MG7Cl5U80OqR",
        "outputId": "7eb63523-4e3d-49e4-b28c-94793ff94d6a"
      },
      "execution_count": null,
      "outputs": [
        {
          "output_type": "stream",
          "name": "stdout",
          "text": [
            "Mean of each numeric column:\n",
            " Unnamed: 0    26970.500000\n",
            "carat             0.797940\n",
            "depth            61.749405\n",
            "table            57.457184\n",
            "price          3932.799722\n",
            "x                 5.731157\n",
            "y                 5.734526\n",
            "z                 3.538734\n",
            "dtype: float64\n"
          ]
        },
        {
          "output_type": "stream",
          "name": "stderr",
          "text": [
            "<ipython-input-86-32341de3cf5c>:1: FutureWarning: The default value of numeric_only in DataFrame.mean is deprecated. In a future version, it will default to False. In addition, specifying 'numeric_only=None' is deprecated. Select only valid columns or specify the value of numeric_only to silence this warning.\n",
            "  print(\"Mean of each numeric column:\\n\",d.mean())\n"
          ]
        }
      ]
    },
    {
      "cell_type": "code",
      "source": [
        "print(\"Cont of null values in each column :\\n\",d.isnull().sum())"
      ],
      "metadata": {
        "colab": {
          "base_uri": "https://localhost:8080/"
        },
        "id": "UoY_Nhru0izG",
        "outputId": "91582ef1-a151-43a8-e586-80a4fe38d1fc"
      },
      "execution_count": null,
      "outputs": [
        {
          "output_type": "stream",
          "name": "stdout",
          "text": [
            "Cont of null values in each column :\n",
            " Unnamed: 0    0\n",
            "carat         0\n",
            "cut           0\n",
            "color         0\n",
            "clarity       0\n",
            "depth         0\n",
            "table         0\n",
            "price         0\n",
            "x             0\n",
            "y             0\n",
            "z             0\n",
            "dtype: int64\n"
          ]
        }
      ]
    },
    {
      "cell_type": "code",
      "source": [
        "print(\"Min,Max price for each cut of diamond :\\n\",d.groupby('cut')['price'].agg(['min','max']))"
      ],
      "metadata": {
        "colab": {
          "base_uri": "https://localhost:8080/"
        },
        "id": "3OD_PObH00Lf",
        "outputId": "b3b96228-a1da-4d3e-a648-902055e38c55"
      },
      "execution_count": null,
      "outputs": [
        {
          "output_type": "stream",
          "name": "stdout",
          "text": [
            "Min,Max price for each cut of diamond :\n",
            "            min    max\n",
            "cut                  \n",
            "Fair       337  18574\n",
            "Good       327  18788\n",
            "Ideal      326  18806\n",
            "Premium    326  18823\n",
            "Very Good  336  18818\n"
          ]
        }
      ]
    },
    {
      "cell_type": "code",
      "source": [
        "print(d.duplicated().sum())"
      ],
      "metadata": {
        "colab": {
          "base_uri": "https://localhost:8080/"
        },
        "id": "9Nqe69pH1S_o",
        "outputId": "207defba-f15b-4adb-e5a5-f7437b17ce1e"
      },
      "execution_count": null,
      "outputs": [
        {
          "output_type": "stream",
          "name": "stdout",
          "text": [
            "0\n"
          ]
        }
      ]
    }
  ]
}