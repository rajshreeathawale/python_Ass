{
  "nbformat": 4,
  "nbformat_minor": 0,
  "metadata": {
    "colab": {
      "provenance": [],
      "authorship_tag": "ABX9TyPWNRISUd2WLn43OID4Woae",
      "include_colab_link": true
    },
    "kernelspec": {
      "name": "python3",
      "display_name": "Python 3"
    },
    "language_info": {
      "name": "python"
    }
  },
  "cells": [
    {
      "cell_type": "markdown",
      "metadata": {
        "id": "view-in-github",
        "colab_type": "text"
      },
      "source": [
        "<a href=\"https://colab.research.google.com/github/rajshreeathawale/python_Ass/blob/main/python_ass5.ipynb\" target=\"_parent\"><img src=\"https://colab.research.google.com/assets/colab-badge.svg\" alt=\"Open In Colab\"/></a>"
      ]
    },
    {
      "cell_type": "markdown",
      "source": [
        "**python assignment 5**"
      ],
      "metadata": {
        "id": "dGkyo6y7Vjvq"
      }
    },
    {
      "cell_type": "markdown",
      "source": [
        "Q2.Write a python program to implement multiple exceptions with else and\n",
        "Finally statements."
      ],
      "metadata": {
        "id": "G8ZivNkhgYAc"
      }
    },
    {
      "cell_type": "code",
      "source": [
        "b=1\n",
        "try:\n",
        "    a=10/b\n",
        "    n=12\n",
        "    print(n)\n",
        "    l=[10,20,30]\n",
        "    print(l[11])\n",
        "except (ZeroDivisionError,NameError,IndexError) as e:\n",
        "    print(e)\n",
        "finally:\n",
        "    print(\"This will be printed...\")\n",
        "print(\"This will not be printed...\")"
      ],
      "metadata": {
        "colab": {
          "base_uri": "https://localhost:8080/"
        },
        "id": "dYwkGvwiV4t7",
        "outputId": "897cd5ff-3425-4ae6-d3c5-2874d2da4b67"
      },
      "execution_count": null,
      "outputs": [
        {
          "output_type": "stream",
          "name": "stdout",
          "text": [
            "12\n",
            "list index out of range\n",
            "This will be printed...\n",
            "This will not be printed...\n"
          ]
        }
      ]
    },
    {
      "cell_type": "markdown",
      "source": [
        "Q4.Find words in a sentence with more than 4 letters using list comprehension."
      ],
      "metadata": {
        "id": "tIuD9YqNY5yM"
      }
    },
    {
      "cell_type": "code",
      "source": [
        "text=\"Find words in sentence.. \"\n",
        "s=[word for word in text.split() if len(word)>4]\n",
        "print(s)"
      ],
      "metadata": {
        "colab": {
          "base_uri": "https://localhost:8080/"
        },
        "id": "4zTwsn4oZJyL",
        "outputId": "b47f007d-b588-4dc5-9397-b03c00122d97"
      },
      "execution_count": null,
      "outputs": [
        {
          "output_type": "stream",
          "name": "stdout",
          "text": [
            "['words', 'sentence..']\n"
          ]
        }
      ]
    },
    {
      "cell_type": "markdown",
      "source": [
        "Q5.Find all of the numbers from 1-1000 that are divisible by 7 using list\n",
        "comprehension."
      ],
      "metadata": {
        "id": "DdEClbufaT40"
      }
    },
    {
      "cell_type": "code",
      "source": [
        "s=[i for i in range(1,1001) if i%7==0]\n",
        "print(\"Numbers divisible by 7:\",s)"
      ],
      "metadata": {
        "colab": {
          "base_uri": "https://localhost:8080/"
        },
        "id": "uYQbylZ6aZDO",
        "outputId": "4fc41d9d-d38c-4513-b501-ec76783f62dc"
      },
      "execution_count": null,
      "outputs": [
        {
          "output_type": "stream",
          "name": "stdout",
          "text": [
            "Numbers divisible by 7: [7, 14, 21, 28, 35, 42, 49, 56, 63, 70, 77, 84, 91, 98, 105, 112, 119, 126, 133, 140, 147, 154, 161, 168, 175, 182, 189, 196, 203, 210, 217, 224, 231, 238, 245, 252, 259, 266, 273, 280, 287, 294, 301, 308, 315, 322, 329, 336, 343, 350, 357, 364, 371, 378, 385, 392, 399, 406, 413, 420, 427, 434, 441, 448, 455, 462, 469, 476, 483, 490, 497, 504, 511, 518, 525, 532, 539, 546, 553, 560, 567, 574, 581, 588, 595, 602, 609, 616, 623, 630, 637, 644, 651, 658, 665, 672, 679, 686, 693, 700, 707, 714, 721, 728, 735, 742, 749, 756, 763, 770, 777, 784, 791, 798, 805, 812, 819, 826, 833, 840, 847, 854, 861, 868, 875, 882, 889, 896, 903, 910, 917, 924, 931, 938, 945, 952, 959, 966, 973, 980, 987, 994]\n"
          ]
        }
      ]
    },
    {
      "cell_type": "markdown",
      "source": [
        "Q6 Write a Python program to sort a tuple by its float element, using lambda\n",
        "function.\n",
        "\n",
        "Sample data: (('item1', '12.20'), ('item2', '15.10'), ('item3', '24.5'))\n",
        "\n",
        "Expected Output: (('item3', '24.5'), ('item2', '15.10'), ('item1', '12.20'))"
      ],
      "metadata": {
        "id": "0ZlBD56rbR3t"
      }
    },
    {
      "cell_type": "code",
      "source": [
        "d= (('item1', '12.20'), ('item2', '15.10'), ('item3', '24.5'))\n",
        "sd=sorted(d,key=lambda x:float(x[1]),reverse=True)\n",
        "print(tuple(sd))"
      ],
      "metadata": {
        "colab": {
          "base_uri": "https://localhost:8080/"
        },
        "id": "tuHn1pYUbWtK",
        "outputId": "a4986826-90b1-4956-e221-45d5ecc3c637"
      },
      "execution_count": null,
      "outputs": [
        {
          "output_type": "stream",
          "name": "stdout",
          "text": [
            "(('item3', '24.5'), ('item2', '15.10'), ('item1', '12.20'))\n"
          ]
        }
      ]
    },
    {
      "cell_type": "markdown",
      "source": [
        "Q7Write a python program to read a list of numbers and if an even number is\n",
        "there calculate the square and print the converted list. Use lambda and map\n",
        "functions."
      ],
      "metadata": {
        "id": "JD1ohbUud7r3"
      }
    },
    {
      "cell_type": "code",
      "source": [
        "def check(n):\n",
        "    if n%2==0:\n",
        "        return n**2\n",
        "    else:\n",
        "        return n\n",
        "n=[1,2,3,4,5,6,7,8,9,10]\n",
        "l=map(check,n)\n",
        "print(list(l))\n"
      ],
      "metadata": {
        "colab": {
          "base_uri": "https://localhost:8080/"
        },
        "id": "Vbw_k-OOeE5E",
        "outputId": "5f8eefda-b39c-47b2-f498-d85c08991a0f"
      },
      "execution_count": null,
      "outputs": [
        {
          "output_type": "stream",
          "name": "stdout",
          "text": [
            "[1, 4, 3, 16, 5, 36, 7, 64, 9, 100]\n"
          ]
        }
      ]
    }
  ]
}