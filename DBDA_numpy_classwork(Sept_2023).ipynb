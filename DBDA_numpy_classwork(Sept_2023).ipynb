{
  "nbformat": 4,
  "nbformat_minor": 0,
  "metadata": {
    "colab": {
      "provenance": [],
      "include_colab_link": true
    },
    "kernelspec": {
      "name": "python3",
      "display_name": "Python 3"
    },
    "language_info": {
      "name": "python"
    }
  },
  "cells": [
    {
      "cell_type": "markdown",
      "metadata": {
        "id": "view-in-github",
        "colab_type": "text"
      },
      "source": [
        "<a href=\"https://colab.research.google.com/github/rajshreeathawale/python_Ass/blob/main/DBDA_numpy_classwork(Sept_2023).ipynb\" target=\"_parent\"><img src=\"https://colab.research.google.com/assets/colab-badge.svg\" alt=\"Open In Colab\"/></a>"
      ]
    },
    {
      "cell_type": "code",
      "source": [
        "import numpy as np\n",
        "a=np.array(43)\n",
        "b=np.array([])\n",
        "c=np.array([[1,2,3,4],[1,3,5,7]])\n",
        "print(c.ndim)\n",
        "print(c.shape)\n",
        "print(c.size)\n",
        "print(c.T)\n",
        "print(c.dtype)"
      ],
      "metadata": {
        "id": "rxJhS76Qgh93",
        "colab": {
          "base_uri": "https://localhost:8080/"
        },
        "outputId": "899a253a-695f-4531-bec1-e067b1a41c24"
      },
      "execution_count": null,
      "outputs": [
        {
          "output_type": "stream",
          "name": "stdout",
          "text": [
            "2\n",
            "(2, 4)\n",
            "8\n",
            "[[1 1]\n",
            " [2 3]\n",
            " [3 5]\n",
            " [4 7]]\n",
            "int64\n"
          ]
        }
      ]
    },
    {
      "cell_type": "code",
      "source": [
        "a1=np.arange(0,1.2,0.2)\n",
        "a1"
      ],
      "metadata": {
        "id": "HtiZjU4Jgt41"
      },
      "execution_count": null,
      "outputs": []
    },
    {
      "cell_type": "code",
      "source": [
        "b1=np.random.random((2,3))\n",
        "print(b1)"
      ],
      "metadata": {
        "id": "oXW3y9tlgxg1"
      },
      "execution_count": null,
      "outputs": []
    },
    {
      "cell_type": "code",
      "source": [
        "z1=np.zeros((2,3),dtype=int)\n",
        "print(z1)"
      ],
      "metadata": {
        "id": "bEoZx9LXg1Uz"
      },
      "execution_count": null,
      "outputs": []
    },
    {
      "cell_type": "code",
      "source": [
        "z1=np.ones((2,3),dtype=int)\n",
        "print(z1)"
      ],
      "metadata": {
        "id": "54gIv9-jg7gq"
      },
      "execution_count": null,
      "outputs": []
    },
    {
      "cell_type": "code",
      "source": [
        "a2=np.array([[1,2,3,4],[9,8,7,6]])\n",
        "b2=np.arange(9)\n",
        "b3=b2.reshape(3,3)\n",
        "print(b3)\n",
        "print(a2[0:,1:])\n",
        "print(a2[::-1,::-1])"
      ],
      "metadata": {
        "id": "lyoNFB-6g-Pu",
        "colab": {
          "base_uri": "https://localhost:8080/"
        },
        "outputId": "1836de2b-6221-4873-8ae0-1f9411681a52"
      },
      "execution_count": null,
      "outputs": [
        {
          "output_type": "stream",
          "name": "stdout",
          "text": [
            "[[0 1 2]\n",
            " [3 4 5]\n",
            " [6 7 8]]\n",
            "[[2 3 4]\n",
            " [8 7 6]]\n",
            "[[6 7 8 9]\n",
            " [4 3 2 1]]\n"
          ]
        }
      ]
    },
    {
      "cell_type": "code",
      "source": [
        "b2=np.arange(9)\n",
        "print(b2)\n",
        "b3=b2.reshape(3,3)\n",
        "b3"
      ],
      "metadata": {
        "id": "EJ8ZSfVehBAn"
      },
      "execution_count": null,
      "outputs": []
    },
    {
      "cell_type": "code",
      "source": [
        "bt=np.transpose(b3)\n",
        "print(bt)"
      ],
      "metadata": {
        "id": "3UaR52RChFUL"
      },
      "execution_count": null,
      "outputs": []
    },
    {
      "cell_type": "code",
      "source": [
        "a2=np.array([[11,2,31,478],[90,8,17,6]])\n",
        "bs1=np.sort(a2,axis=1)\n",
        "print(bs1)"
      ],
      "metadata": {
        "id": "okTn09_nhIGb",
        "colab": {
          "base_uri": "https://localhost:8080/"
        },
        "outputId": "d4e0659f-819d-42f5-83b5-8f49c70c585b"
      },
      "execution_count": null,
      "outputs": [
        {
          "output_type": "stream",
          "name": "stdout",
          "text": [
            "[[  2  11  31 478]\n",
            " [  6   8  17  90]]\n"
          ]
        }
      ]
    },
    {
      "cell_type": "code",
      "source": [
        "a2=np.array([[11,2,31,478],[90,8,17,6]])\n",
        "f1=a2.flatten()\n",
        "print(f1)\n",
        "f2=a2.flatten(order='F')\n",
        "print(f2)"
      ],
      "metadata": {
        "id": "lHDBbTYRhL6B"
      },
      "execution_count": null,
      "outputs": []
    },
    {
      "cell_type": "code",
      "execution_count": null,
      "metadata": {
        "colab": {
          "base_uri": "https://localhost:8080/"
        },
        "id": "Nq3ZSpfN7fbY",
        "outputId": "fe961446-0d9c-4e75-a89e-66f7ec7acf36"
      },
      "outputs": [
        {
          "output_type": "stream",
          "name": "stdout",
          "text": [
            "[ 1  2  3  4  5  6  7  8  9 10]\n",
            "1\n",
            "10\n",
            "55\n",
            "3628800\n",
            "[1.         1.41421356 1.73205081 2.         2.23606798 2.44948974\n",
            " 2.64575131 2.82842712 3.         3.16227766]\n",
            "5.5\n"
          ]
        }
      ],
      "source": [
        "import numpy as np\n",
        "a=np.arange(1,11)\n",
        "print(a)\n",
        "print(a.min())\n",
        "print(a.max())\n",
        "print(a.sum())\n",
        "print(np.prod(a))\n",
        "print(np.sqrt(a))\n",
        "print(np.mean(a))"
      ]
    },
    {
      "cell_type": "code",
      "source": [
        "a=np.arange(1,11)\n",
        "a=a.reshape(2,5)\n",
        "print(a)\n",
        "min1=np.amin(a, axis=0)\n",
        "print(min1)\n",
        "min2=np.amin(a,axis=1)\n",
        "print(min2)\n",
        "max1=np.amax(a,axis=0)\n",
        "print(max1)"
      ],
      "metadata": {
        "colab": {
          "base_uri": "https://localhost:8080/"
        },
        "id": "VDKi-6td8xbg",
        "outputId": "617cff97-0f47-48b6-f7da-4fc716acb3ca"
      },
      "execution_count": null,
      "outputs": [
        {
          "output_type": "stream",
          "name": "stdout",
          "text": [
            "[[ 1  2  3  4  5]\n",
            " [ 6  7  8  9 10]]\n",
            "[1 2 3 4 5]\n",
            "[1 6]\n",
            "[ 6  7  8  9 10]\n"
          ]
        }
      ]
    },
    {
      "cell_type": "code",
      "source": [
        "z1=np.zeros((2,3),int)\n",
        "print(z1)\n",
        "print(np.all(z1))\n",
        "print(np.all(a))\n",
        "print(np.any(z1))\n",
        "a1=[0,0,1,0]\n",
        "print(np.any(a1))"
      ],
      "metadata": {
        "colab": {
          "base_uri": "https://localhost:8080/"
        },
        "id": "Lj4QljIx-GCo",
        "outputId": "9c1dd6c5-009a-4911-d60e-d3aa1efc0198"
      },
      "execution_count": null,
      "outputs": [
        {
          "output_type": "stream",
          "name": "stdout",
          "text": [
            "[[0 0 0]\n",
            " [0 0 0]]\n",
            "False\n",
            "True\n",
            "False\n",
            "True\n"
          ]
        }
      ]
    },
    {
      "cell_type": "code",
      "source": [
        "a2=np.array([17,13,19])\n",
        "b2=np.array(3)\n",
        "print(a2+b2)\n",
        "print(np.add(a2,b2))\n",
        "print(np.subtract(a2,b2))\n",
        "print(np.multiply(a2,b2))\n",
        "print(np.divide(a2,b2))"
      ],
      "metadata": {
        "colab": {
          "base_uri": "https://localhost:8080/"
        },
        "id": "O_yjjQK--PzK",
        "outputId": "25e6a44f-44c5-4922-a3b4-44d20aa66182"
      },
      "execution_count": null,
      "outputs": [
        {
          "output_type": "stream",
          "name": "stdout",
          "text": [
            "[20 16 22]\n",
            "[20 16 22]\n",
            "[14 10 16]\n",
            "[51 39 57]\n",
            "[5.66666667 4.33333333 6.33333333]\n"
          ]
        }
      ]
    },
    {
      "cell_type": "code",
      "source": [
        "c=np.array([[5,25],[3,9]])\n",
        "d=np.array(([4,16],[6,36]))\n",
        "e=np.concatenate((c,d),axis=0)\n",
        "print(e)\n",
        "print(e.ndim)\n",
        "e1=np.concatenate((c,d),axis=1)\n",
        "print(e1)"
      ],
      "metadata": {
        "colab": {
          "base_uri": "https://localhost:8080/"
        },
        "id": "88q0ySBLBVu3",
        "outputId": "0f2bce14-d3e3-4f81-c652-3c2237e6688b"
      },
      "execution_count": null,
      "outputs": [
        {
          "output_type": "stream",
          "name": "stdout",
          "text": [
            "[[ 5 25]\n",
            " [ 3  9]\n",
            " [ 4 16]\n",
            " [ 6 36]]\n",
            "2\n",
            "[[ 5 25  4 16]\n",
            " [ 3  9  6 36]]\n"
          ]
        }
      ]
    },
    {
      "cell_type": "code",
      "source": [
        "c=np.array([[5,25],[3,9]])\n",
        "d=np.array(([4,16],[6,36]))\n",
        "e=np.stack((c,d),axis=0)\n",
        "print(e)\n",
        "print(e.ndim)"
      ],
      "metadata": {
        "colab": {
          "base_uri": "https://localhost:8080/"
        },
        "id": "weJctkxkBwmq",
        "outputId": "ded98dee-44b0-4836-812a-b1cc3c60ba1b"
      },
      "execution_count": null,
      "outputs": [
        {
          "output_type": "stream",
          "name": "stdout",
          "text": [
            "[[[ 5 25]\n",
            "  [ 3  9]]\n",
            "\n",
            " [[ 4 16]\n",
            "  [ 6 36]]]\n",
            "3\n"
          ]
        }
      ]
    },
    {
      "cell_type": "code",
      "source": [
        "c=np.array([[5,25],[3,9]])\n",
        "d=np.array(([4,16],[6,36]))\n",
        "e=np.vstack((c,d))\n",
        "print(e)\n",
        "print(e.ndim)"
      ],
      "metadata": {
        "colab": {
          "base_uri": "https://localhost:8080/"
        },
        "id": "C0-9CH_YCMyG",
        "outputId": "7683c434-3268-4968-ecbd-0ed4cd4b80ea"
      },
      "execution_count": null,
      "outputs": [
        {
          "output_type": "stream",
          "name": "stdout",
          "text": [
            "[[ 5 25]\n",
            " [ 3  9]\n",
            " [ 4 16]\n",
            " [ 6 36]]\n",
            "2\n"
          ]
        }
      ]
    },
    {
      "cell_type": "code",
      "source": [
        "c=np.array([[5,25],[3,9]])\n",
        "d=np.array(([4,16],[6,36]))\n",
        "e=np.hstack((c,d))\n",
        "print(e)\n",
        "print(e.ndim)"
      ],
      "metadata": {
        "colab": {
          "base_uri": "https://localhost:8080/"
        },
        "id": "fMD4G8kZDJ6O",
        "outputId": "c35ded40-aa30-4f12-8f82-7843945c3d24"
      },
      "execution_count": null,
      "outputs": [
        {
          "output_type": "stream",
          "name": "stdout",
          "text": [
            "[[ 5 25  4 16]\n",
            " [ 3  9  6 36]]\n",
            "2\n"
          ]
        }
      ]
    },
    {
      "cell_type": "code",
      "source": [
        "x=np.array([[5,25],[3,9]])\n",
        "x1=x.copy()\n",
        "x1[0]=111\n",
        "print(x1)\n",
        "print(x)"
      ],
      "metadata": {
        "colab": {
          "base_uri": "https://localhost:8080/"
        },
        "id": "ZWPAUy8hD4FC",
        "outputId": "b7819d48-8d1e-4cbf-f347-212c650e5e21"
      },
      "execution_count": null,
      "outputs": [
        {
          "output_type": "stream",
          "name": "stdout",
          "text": [
            "[[111 111]\n",
            " [  3   9]]\n",
            "[[ 5 25]\n",
            " [ 3  9]]\n"
          ]
        }
      ]
    },
    {
      "cell_type": "code",
      "source": [
        "x=np.array([[5,25],[3,9]])\n",
        "x1=x.view()\n",
        "x1[0]=111\n",
        "print(x1)\n",
        "print(x)"
      ],
      "metadata": {
        "colab": {
          "base_uri": "https://localhost:8080/"
        },
        "id": "8NRtLqjJEh63",
        "outputId": "c72795dc-cb16-4a4f-858d-a1f67506162a"
      },
      "execution_count": null,
      "outputs": [
        {
          "output_type": "stream",
          "name": "stdout",
          "text": [
            "[[111 111]\n",
            " [  3   9]]\n",
            "[[111 111]\n",
            " [  3   9]]\n"
          ]
        }
      ]
    },
    {
      "cell_type": "code",
      "source": [
        "y=np.arange(0,9)\n",
        "print(y)\n",
        "ycopy=y.copy()\n",
        "ycopy[0]=100\n",
        "print(ycopy)\n",
        "print(y)"
      ],
      "metadata": {
        "colab": {
          "base_uri": "https://localhost:8080/"
        },
        "id": "sxgOcrrTFVj1",
        "outputId": "142dcb97-aad8-4f42-8d32-b1a51dced96d"
      },
      "execution_count": null,
      "outputs": [
        {
          "output_type": "stream",
          "name": "stdout",
          "text": [
            "[0 1 2 3 4 5 6 7 8]\n",
            "[100   1   2   3   4   5   6   7   8]\n",
            "[0 1 2 3 4 5 6 7 8]\n"
          ]
        }
      ]
    },
    {
      "cell_type": "code",
      "source": [
        "y=np.arange(0,9)\n",
        "print(y)\n",
        "yview=y.view()\n",
        "yview[0]=100\n",
        "print(yview)\n",
        "print(y)"
      ],
      "metadata": {
        "colab": {
          "base_uri": "https://localhost:8080/"
        },
        "id": "tw0IndIUFacV",
        "outputId": "f97727a5-41a9-4944-920f-94ae379f373d"
      },
      "execution_count": null,
      "outputs": [
        {
          "output_type": "stream",
          "name": "stdout",
          "text": [
            "[0 1 2 3 4 5 6 7 8]\n",
            "[100   1   2   3   4   5   6   7   8]\n",
            "[100   1   2   3   4   5   6   7   8]\n"
          ]
        }
      ]
    },
    {
      "cell_type": "code",
      "source": [
        "y=np.arange(0,9)\n",
        "for i in np.nditer(y):\n",
        "  print(i)\n"
      ],
      "metadata": {
        "colab": {
          "base_uri": "https://localhost:8080/"
        },
        "id": "OG5UwJnAGazD",
        "outputId": "607d7651-073a-456e-e38a-81d44a4c7667"
      },
      "execution_count": null,
      "outputs": [
        {
          "output_type": "stream",
          "name": "stdout",
          "text": [
            "0\n",
            "1\n",
            "2\n",
            "3\n",
            "4\n",
            "5\n",
            "6\n",
            "7\n",
            "8\n"
          ]
        }
      ]
    },
    {
      "cell_type": "code",
      "source": [
        "y=np.arange(0,9)\n",
        "for id,i in np.ndenumerate(y):\n",
        "  print(id,i)"
      ],
      "metadata": {
        "colab": {
          "base_uri": "https://localhost:8080/"
        },
        "id": "Mrl8asXAG21C",
        "outputId": "2e354e49-dfbe-4544-e94f-7105ca12eac8"
      },
      "execution_count": null,
      "outputs": [
        {
          "output_type": "stream",
          "name": "stdout",
          "text": [
            "(0,) 0\n",
            "(1,) 1\n",
            "(2,) 2\n",
            "(3,) 3\n",
            "(4,) 4\n",
            "(5,) 5\n",
            "(6,) 6\n",
            "(7,) 7\n",
            "(8,) 8\n"
          ]
        }
      ]
    },
    {
      "cell_type": "code",
      "source": [
        "for i in y:\n",
        "  print(i)"
      ],
      "metadata": {
        "colab": {
          "base_uri": "https://localhost:8080/"
        },
        "id": "980FQwL7GsqS",
        "outputId": "afa1e245-e1ec-4aae-e7cc-9c676c46eff9"
      },
      "execution_count": null,
      "outputs": [
        {
          "output_type": "stream",
          "name": "stdout",
          "text": [
            "0\n",
            "1\n",
            "2\n",
            "3\n",
            "4\n",
            "5\n",
            "6\n",
            "7\n",
            "8\n"
          ]
        }
      ]
    },
    {
      "cell_type": "code",
      "source": [
        "n1=np.array([41,42,43,44])\n",
        "x=[True,False,True,False]\n",
        "new1=n1[x]\n",
        "print(new1)"
      ],
      "metadata": {
        "colab": {
          "base_uri": "https://localhost:8080/"
        },
        "id": "YkSlM84AHhQq",
        "outputId": "48a6dbb1-a276-4af9-9378-bf97865abc71"
      },
      "execution_count": null,
      "outputs": [
        {
          "output_type": "stream",
          "name": "stdout",
          "text": [
            "[41 43]\n"
          ]
        }
      ]
    },
    {
      "cell_type": "code",
      "source": [
        "n1=np.array([41,42,43,44])\n",
        "new2=np.where(n1>42)\n",
        "print(new2)\n",
        "print(n1[new2])"
      ],
      "metadata": {
        "colab": {
          "base_uri": "https://localhost:8080/"
        },
        "id": "lJIsdk3jH5xk",
        "outputId": "389d55ee-cbd2-4a01-a1ab-17700f73b51d"
      },
      "execution_count": null,
      "outputs": [
        {
          "output_type": "stream",
          "name": "stdout",
          "text": [
            "(array([2, 3]),)\n",
            "[43 44]\n"
          ]
        }
      ]
    },
    {
      "cell_type": "code",
      "source": [
        "ar=np.arange(1,13)\n",
        "print(ar)\n",
        "ar_change=np.where(ar<5,ar*2,ar)\n",
        "print(ar_change)"
      ],
      "metadata": {
        "colab": {
          "base_uri": "https://localhost:8080/"
        },
        "id": "l_BsFrihIhuf",
        "outputId": "38ab1936-aaf1-45ec-9cf7-90694ec20935"
      },
      "execution_count": null,
      "outputs": [
        {
          "output_type": "stream",
          "name": "stdout",
          "text": [
            "[ 1  2  3  4  5  6  7  8  9 10 11 12]\n",
            "[ 2  4  6  8  5  6  7  8  9 10 11 12]\n"
          ]
        }
      ]
    },
    {
      "cell_type": "code",
      "source": [],
      "metadata": {
        "id": "75Xy5eviKC1z"
      },
      "execution_count": null,
      "outputs": []
    }
  ]
}